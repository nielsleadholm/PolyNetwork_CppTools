{
 "cells": [
  {
   "cell_type": "markdown",
   "metadata": {
    "colab_type": "text",
    "id": "ZCwcgFwsCTrT"
   },
   "source": [
    "# Spike Sandbox"
   ]
  },
  {
   "cell_type": "markdown",
   "metadata": {
    "colab_type": "text",
    "id": "IafevlSI-yCo"
   },
   "source": [
    "The following Jupyter notebook enables rapid proto-typing and testing of C++ code for the Spike simulator. For an introduction to Spike, click [here](https://sites.google.com/view/spike-simulator/home)"
   ]
  },
  {
   "cell_type": "markdown",
   "metadata": {
    "colab_type": "text",
    "id": "AasvU3fqLxux"
   },
   "source": [
    "Note that unlike the similar Colaboratory Sandbox, running Spike simulations in Jupyter enables the user to visualize C++ error messages, and thus simplifies bug resolution."
   ]
  },
  {
   "cell_type": "markdown",
   "metadata": {
    "colab_type": "text",
    "id": "_MF9k73OBRsa"
   },
   "source": [
    "To get started, you can simply run every cell up until the section entitled 'Sandbox'"
   ]
  },
  {
   "cell_type": "markdown",
   "metadata": {
    "colab_type": "text",
    "id": "O7rknd8lBZFp"
   },
   "source": [
    "After that, you will be able to edit, compile, and run C++ code for Spike simulations, using only the commands under Sandbox. "
   ]
  },
  {
   "cell_type": "markdown",
   "metadata": {
    "colab_type": "text",
    "id": "gf65gEHRGFzI"
   },
   "source": [
    "This Jupyter notebook was created by members of the [Oxford Foundation for Theoretical Neuroscience and Artificial Intelligence](https://www.oftnai.org/)."
   ]
  },
  {
   "cell_type": "markdown",
   "metadata": {
    "colab_type": "text",
    "id": "yoBmdr2EQJi1"
   },
   "source": [
    "## Setting up environment"
   ]
  },
  {
   "cell_type": "markdown",
   "metadata": {
    "colab_type": "text",
    "id": "-ZNN9eC-7l96"
   },
   "source": [
    "The following lines of code are useful if you want to do a clean re-installation of Spike and its dependencies. If you are running this Colab document for the first time, you can skip to the !git clone cell, but running these commands will not cause any issues."
   ]
  },
  {
   "cell_type": "code",
   "execution_count": 21,
   "metadata": {
    "colab": {
     "base_uri": "https://localhost:8080/",
     "height": 34
    },
    "colab_type": "code",
    "id": "znPGglDunVfy",
    "outputId": "7c2da5e5-5c32-40ed-b8c4-dfa9e2107e3b"
   },
   "outputs": [
    {
     "name": "stdout",
     "output_type": "stream",
     "text": [
      "/Users/localharry\n"
     ]
    }
   ],
   "source": [
    "cd /Users/localharry"
   ]
  },
  {
   "cell_type": "code",
   "execution_count": 9,
   "metadata": {
    "colab": {},
    "colab_type": "code",
    "id": "2G9FdeignuG3"
   },
   "outputs": [],
   "source": [
    "rm -rf PolyNetwork_CppTools #Run if Spike folder is present"
   ]
  },
  {
   "cell_type": "code",
   "execution_count": 10,
   "metadata": {
    "colab": {
     "base_uri": "https://localhost:8080/",
     "height": 34
    },
    "colab_type": "code",
    "id": "4NfOr0vxsYcV",
    "outputId": "9e0f2731-f6e9-4ba9-a7b3-cbc1a976ca74"
   },
   "outputs": [
    {
     "name": "stdout",
     "output_type": "stream",
     "text": [
      "\u001b[34mApplications\u001b[m\u001b[m/ \u001b[34mDocuments\u001b[m\u001b[m/    \u001b[34mLibrary\u001b[m\u001b[m/      \u001b[34mMusic\u001b[m\u001b[m/        \u001b[34mPublic\u001b[m\u001b[m/\r\n",
      "\u001b[34mDesktop\u001b[m\u001b[m/      \u001b[34mDownloads\u001b[m\u001b[m/    \u001b[34mMovies\u001b[m\u001b[m/       \u001b[34mPictures\u001b[m\u001b[m/     \u001b[34manaconda3\u001b[m\u001b[m/\r\n"
     ]
    }
   ],
   "source": [
    "ls"
   ]
  },
  {
   "cell_type": "code",
   "execution_count": 11,
   "metadata": {
    "colab": {
     "base_uri": "https://localhost:8080/",
     "height": 823
    },
    "colab_type": "code",
    "id": "KccdK9rHNcs4",
    "outputId": "99323ebd-3469-4c77-b8b7-635c9b009940"
   },
   "outputs": [
    {
     "name": "stdout",
     "output_type": "stream",
     "text": [
      "Cloning into 'PolyNetwork_CppTools'...\n",
      "remote: Enumerating objects: 31, done.\u001b[K\n",
      "remote: Counting objects: 100% (31/31), done.\u001b[K\n",
      "remote: Compressing objects: 100% (22/22), done.\u001b[K\n",
      "remote: Total 31 (delta 8), reused 29 (delta 6), pack-reused 0\u001b[K\n",
      "Unpacking objects: 100% (31/31), done.\n",
      "Submodule 'Spike' (https://github.com/nasiryahm/Spike) registered for path 'Spike'\n",
      "Cloning into '/Users/localharry/PolyNetwork_CppTools/Spike'...\n",
      "remote: Enumerating objects: 198, done.        \n",
      "remote: Counting objects: 100% (198/198), done.        \n",
      "remote: Compressing objects: 100% (105/105), done.        \n",
      "remote: Total 12478 (delta 128), reused 145 (delta 93), pack-reused 12280        \n",
      "Receiving objects: 100% (12478/12478), 44.50 MiB | 200.00 KiB/s, done.\n",
      "Resolving deltas: 100% (9636/9636), done.\n",
      "Submodule path 'Spike': checked out 'b35e8726a3a4a3314a0e4abba10729ec638327b1'\n"
     ]
    }
   ],
   "source": [
    "!git clone --recursive https://github.com/nielsleadholm/PolyNetwork_CppTools #Note '!' is necessary in Colab to run shell commands"
   ]
  },
  {
   "cell_type": "code",
   "execution_count": 22,
   "metadata": {
    "colab": {
     "base_uri": "https://localhost:8080/",
     "height": 34
    },
    "colab_type": "code",
    "id": "aSSdEqAW4lzp",
    "outputId": "1597d4b4-66a4-4684-f5c8-5e9ad1e034f5"
   },
   "outputs": [
    {
     "name": "stdout",
     "output_type": "stream",
     "text": [
      "/Users/localharry/PolyNetwork_CppTools\n"
     ]
    }
   ],
   "source": [
    "cd PolyNetwork_CppTools"
   ]
  },
  {
   "cell_type": "code",
   "execution_count": 20,
   "metadata": {
    "colab": {
     "base_uri": "https://localhost:8080/",
     "height": 67
    },
    "colab_type": "code",
    "id": "SPp_ORidgn_r",
    "outputId": "b6f7a763-5a66-4a01-f21d-7192601651a3"
   },
   "outputs": [
    {
     "name": "stdout",
     "output_type": "stream",
     "text": [
      "Already up to date.\n",
      "Already on 'master'\n",
      "Your branch is up to date with 'origin/master'.\n"
     ]
    }
   ],
   "source": [
    "!git pull \n",
    "!git checkout master "
   ]
  },
  {
   "cell_type": "markdown",
   "metadata": {
    "colab_type": "text",
    "id": "ucWC5oO_U2Kn"
   },
   "source": [
    "## Testing NVCC & CMake Setup"
   ]
  },
  {
   "cell_type": "code",
   "execution_count": 23,
   "metadata": {
    "colab": {
     "base_uri": "https://localhost:8080/",
     "height": 34
    },
    "colab_type": "code",
    "id": "d79Xlrmmm0oP",
    "outputId": "b907f1aa-af4b-4a52-ac7d-73e320dfab46"
   },
   "outputs": [
    {
     "name": "stdout",
     "output_type": "stream",
     "text": [
      "/Users/localharry/PolyNetwork_CppTools/Build\n"
     ]
    }
   ],
   "source": [
    "cd /Users/localharry/PolyNetwork_CppTools/Build"
   ]
  },
  {
   "cell_type": "code",
   "execution_count": 24,
   "metadata": {
    "colab": {
     "base_uri": "https://localhost:8080/",
     "height": 50
    },
    "colab_type": "code",
    "id": "N17-uSdbKJLX",
    "outputId": "b435b1db-7648-4d32-f59e-dc831d4cf85d"
   },
   "outputs": [
    {
     "name": "stdout",
     "output_type": "stream",
     "text": [
      "nvcc fatal   : No input files specified; use option --help for more information\r\n"
     ]
    }
   ],
   "source": [
    "!/usr/local/cuda/bin/nvcc #'fatal' message is expected, as no input files given; note that 'NVCC' is NVIDA's compiling tool for CUDA"
   ]
  },
  {
   "cell_type": "code",
   "execution_count": 25,
   "metadata": {
    "colab": {},
    "colab_type": "code",
    "id": "SCQ7mbjlRMaG"
   },
   "outputs": [],
   "source": [
    "!rm -rf * #rm = remove; r = remove directory and its contents recursively; f = force (do so wihtout prompts)"
   ]
  },
  {
   "cell_type": "code",
   "execution_count": 26,
   "metadata": {
    "colab": {
     "base_uri": "https://localhost:8080/",
     "height": 34
    },
    "colab_type": "code",
    "id": "XCPtF4Zm5Qqb",
    "outputId": "66d62915-3531-46ab-bfe2-3aa2db6a7073"
   },
   "outputs": [
    {
     "name": "stdout",
     "output_type": "stream",
     "text": [
      "/Users/localharry/PolyNetwork_CppTools\n"
     ]
    }
   ],
   "source": [
    "cd /Users/localharry/PolyNetwork_CppTools"
   ]
  },
  {
   "cell_type": "code",
   "execution_count": 27,
   "metadata": {
    "colab": {
     "base_uri": "https://localhost:8080/",
     "height": 470
    },
    "colab_type": "code",
    "id": "nK9zkmBPyOW4",
    "outputId": "ecbab778-a8b2-427a-a2f3-d752b67272f5"
   },
   "outputs": [
    {
     "name": "stdout",
     "output_type": "stream",
     "text": [
      "-- The C compiler identification is AppleClang 9.0.0.9000039\n",
      "-- The CXX compiler identification is AppleClang 9.0.0.9000039\n",
      "-- Check for working C compiler: /Applications/Xcode.app/Contents/Developer/Toolchains/XcodeDefault.xctoolchain/usr/bin/cc\n",
      "-- Check for working C compiler: /Applications/Xcode.app/Contents/Developer/Toolchains/XcodeDefault.xctoolchain/usr/bin/cc -- works\n",
      "-- Detecting C compiler ABI info\n",
      "-- Detecting C compiler ABI info - done\n",
      "-- Detecting C compile features\n",
      "-- Detecting C compile features - done\n",
      "-- Check for working CXX compiler: /Applications/Xcode.app/Contents/Developer/Toolchains/XcodeDefault.xctoolchain/usr/bin/c++\n",
      "-- Check for working CXX compiler: /Applications/Xcode.app/Contents/Developer/Toolchains/XcodeDefault.xctoolchain/usr/bin/c++ -- works\n",
      "-- Detecting CXX compiler ABI info\n",
      "-- Detecting CXX compiler ABI info - done\n",
      "-- Detecting CXX compile features\n",
      "-- Detecting CXX compile features - done\n",
      "-- Looking for pthread.h\n",
      "-- Looking for pthread.h - found\n",
      "-- Looking for pthread_create\n",
      "-- Looking for pthread_create - found\n",
      "-- Found Threads: TRUE  \n",
      "-- Found CUDA: /usr/local/cuda (found version \"9.0\") \n",
      "-- Configuring done\n",
      "-- Generating done\n",
      "-- Build files have been written to: /Users/localharry/PolyNetwork_CppTools\n"
     ]
    }
   ],
   "source": [
    "!cmake ./"
   ]
  },
  {
   "cell_type": "code",
   "execution_count": 28,
   "metadata": {
    "colab": {
     "base_uri": "https://localhost:8080/",
     "height": 50
    },
    "colab_type": "code",
    "id": "t2bQIU_iKVok",
    "outputId": "1d8c4019-3535-41e9-b718-b38a5b9b9432"
   },
   "outputs": [
    {
     "name": "stdout",
     "output_type": "stream",
     "text": [
      "rm: /usr/local/cuda/bin/gcc: No such file or directory\n",
      "rm: /usr/local/cuda/bin/g++: No such file or directory\n",
      "ln: /usr/local/cuda/bin/gcc: Permission denied\n",
      "ln: /usr/local/cuda/bin/g++: Permission denied\n"
     ]
    }
   ],
   "source": [
    "!rm /usr/local/cuda/bin/gcc;\n",
    "!rm /usr/local/cuda/bin/g++;\n",
    "!ln -s /usr/bin/gcc-5 /usr/local/cuda/bin/gcc; #ln -s creates a symbolic link, essentially such that if something is queried at a location (which now no longer exists), the link points to a new location\n",
    "!ln -s /usr/bin/g++-5 /usr/local/cuda/bin/g++;"
   ]
  },
  {
   "cell_type": "code",
   "execution_count": 32,
   "metadata": {
    "colab": {
     "base_uri": "https://localhost:8080/",
     "height": 2137
    },
    "colab_type": "code",
    "id": "47wHHoNcVtU3",
    "outputId": "4c765f4e-d30d-4b59-bea5-b5df88946df7"
   },
   "outputs": [
    {
     "name": "stdout",
     "output_type": "stream",
     "text": [
      "[  1%] \u001b[34m\u001b[1mBuilding /Users/localharry/PolyNetwork_CppTools/Spike/Spike/Backend/CUDA/Synapses/VoltageSpikingSynapses.cu\u001b[0m\n",
      "[  3%] \u001b[34m\u001b[1mBuilding /Users/localharry/PolyNetwork_CppTools/Spike/Spike/Backend/CUDA/ActivityMonitor/RateActivityMonitor.cu\u001b[0m\n",
      "[  3%] \u001b[34m\u001b[1mBuilding /Users/localharry/PolyNetwork_CppTools/Spike/Spike/Backend/CUDA/ActivityMonitor/ActivityMonitor.cu\u001b[0m\n",
      "[  4%] \u001b[34m\u001b[1mBuilding /Users/localharry/PolyNetwork_CppTools/Spike/Spike/Backend/CUDA/ActivityMonitor/SpikingActivityMonitor.cu\u001b[0m\n",
      "[  7%] \u001b[34m\u001b[1mBuilding /Users/localharry/PolyNetwork_CppTools/Spike/Spike/Backend/CUDA/CUDABackend.cu\u001b[0m\n",
      "[  7%] \u001b[34m\u001b[1mBuilding /Users/localharry/PolyNetwork_CppTools/Spike/Spike/Backend/CUDA/Helpers/Memory.cu\u001b[0m\n",
      "[  8%] \u001b[34m\u001b[1mBuilding /Users/localharry/PolyNetwork_CppTools/Spike/Spike/Backend/CUDA/Helpers/RandomStateManager.cu\u001b[0m\n",
      "\u001b[34mBuilding NVCC Device object /Users/localharry/PolyNetwork_CppTools/Spike/Spike/Backend/CUDA/Synapses/VoltageSpikingSynapses.cu\u001b[0m\n",
      "\u001b[34mBuilding NVCC Device object /Users/localharry/PolyNetwork_CppTools/Spike/Spike/Backend/CUDA/ActivityMonitor/RateActivityMonitor.cu\u001b[0m\n",
      "\u001b[34mBuilding NVCC Device object /Users/localharry/PolyNetwork_CppTools/Spike/Spike/Backend/CUDA/ActivityMonitor/ActivityMonitor.cu\u001b[0m\n",
      "\u001b[34mBuilding NVCC Device object /Users/localharry/PolyNetwork_CppTools/Spike/Spike/Backend/CUDA/ActivityMonitor/SpikingActivityMonitor.cu\u001b[0m\n",
      "\u001b[34mBuilding NVCC Device object /Users/localharry/PolyNetwork_CppTools/Spike/Spike/Backend/CUDA/CUDABackend.cu\u001b[0m\n",
      "\u001b[34mBuilding NVCC Device object /Users/localharry/PolyNetwork_CppTools/Spike/Spike/Backend/CUDA/Helpers/Memory.cu\u001b[0m\n",
      "\u001b[34mBuilding NVCC Device object /Users/localharry/PolyNetwork_CppTools/Spike/Spike/Backend/CUDA/Helpers/RandomStateManager.cu\u001b[0m\n",
      "[ 38%] Built target SpikeDummy\n",
      "[ 40%] \u001b[34m\u001b[1mBuilding /Users/localharry/PolyNetwork_CppTools/Spike/Spike/Backend/CUDA/Neurons/GeneratorInputSpikingNeurons.cu\u001b[0m\n",
      "\u001b[34mBuilding NVCC Device object /Users/localharry/PolyNetwork_CppTools/Spike/Spike/Backend/CUDA/Neurons/GeneratorInputSpikingNeurons.cu\u001b[0m\n",
      "[ 41%] \u001b[34m\u001b[1mBuilding /Users/localharry/PolyNetwork_CppTools/Spike/Spike/Backend/CUDA/Neurons/ImagePoissonInputSpikingNeurons.cu\u001b[0m\n",
      "\u001b[34mBuilding NVCC Device object /Users/localharry/PolyNetwork_CppTools/Spike/Spike/Backend/CUDA/Neurons/ImagePoissonInputSpikingNeurons.cu\u001b[0m\n",
      "[ 42%] \u001b[34m\u001b[1mBuilding /Users/localharry/PolyNetwork_CppTools/Spike/Spike/Backend/CUDA/Neurons/InputSpikingNeurons.cu\u001b[0m\n",
      "\u001b[34mBuilding NVCC Device object /Users/localharry/PolyNetwork_CppTools/Spike/Spike/Backend/CUDA/Neurons/InputSpikingNeurons.cu\u001b[0m\n",
      "\u001b[1m/Users/localharry/PolyNetwork_CppTools/Spike/Spike/Models/../Plasticity/STDPPlasticity.hpp:61:14: \u001b[0m\u001b[0;1;35mwarning: \u001b[0m\u001b[1m\n",
      "      'AddSynapseIndices' overrides a member function but is not marked\n",
      "      'override' [-Winconsistent-missing-override]\u001b[0m\n",
      "virtual void AddSynapseIndices(int synapse_id_start, int num_synapses_to_add); \n",
      "\u001b[0;1;32m             ^\n",
      "\u001b[0m\u001b[1m/Users/localharry/PolyNetwork_CppTools/Spike/Spike/Plasticity/Plasticity.hpp:56:14: \u001b[0m\u001b[0;1;30mnote: \u001b[0m\n",
      "      overridden virtual function is here\u001b[0m\n",
      "virtual void AddSynapseIndices(int synapse_id_start, int num_synapses_to...\n",
      "\u001b[0;1;32m             ^\n",
      "\u001b[0m\u001b[1m/Users/localharry/PolyNetwork_CppTools/Spike/Spike/Models/../ActivityMonitor/ActivityMonitor.hpp:39:14: \u001b[0m\u001b[0;1;35mwarning: \u001b[0m\u001b[1m\n",
      "      'reset_state' overrides a member function but is not marked 'override'\n",
      "      [-Winconsistent-missing-override]\u001b[0m\n",
      "virtual void reset_state() = 0; \n",
      "\u001b[0;1;32m             ^\n",
      "\u001b[0m\u001b[1m/Users/localharry/PolyNetwork_CppTools/Spike/Spike/Base.hpp:13:14: \u001b[0m\u001b[0;1;30mnote: \u001b[0m\n",
      "      overridden virtual function is here\u001b[0m\n",
      "virtual void reset_state() = 0; \n",
      "\u001b[0;1;32m             ^\n",
      "\u001b[0m2 warnings generated.\n",
      "[ 43%] \u001b[34m\u001b[1mBuilding /Users/localharry/PolyNetwork_CppTools/Spike/Spike/Backend/CUDA/Neurons/LIFSpikingNeurons.cu\u001b[0m\n",
      "\u001b[34mBuilding NVCC Device object /Users/localharry/PolyNetwork_CppTools/Spike/Spike/Backend/CUDA/Neurons/LIFSpikingNeurons.cu\u001b[0m\n",
      "\u001b[1m/Users/localharry/PolyNetwork_CppTools/Spike/Spike/Models/../Plasticity/STDPPlasticity.hpp:61:14: \u001b[0m\u001b[0;1;35mwarning: \u001b[0m\u001b[1m\n",
      "      'AddSynapseIndices' overrides a member function but is not marked\n",
      "      'override' [-Winconsistent-missing-override]\u001b[0m\n",
      "virtual void AddSynapseIndices(int synapse_id_start, int num_synapses_to_add); \n",
      "\u001b[0;1;32m             ^\n",
      "\u001b[0m\u001b[1m/Users/localharry/PolyNetwork_CppTools/Spike/Spike/Plasticity/Plasticity.hpp:56:14: \u001b[0m\u001b[0;1;30mnote: \u001b[0m\n",
      "      overridden virtual function is here\u001b[0m\n",
      "virtual void AddSynapseIndices(int synapse_id_start, int num_synapses_to...\n",
      "\u001b[0;1;32m             ^\n",
      "\u001b[0m\u001b[1m/Users/localharry/PolyNetwork_CppTools/Spike/Spike/Models/../ActivityMonitor/ActivityMonitor.hpp:39:14: \u001b[0m\u001b[0;1;35mwarning: \u001b[0m\u001b[1m\n",
      "      'reset_state' overrides a member function but is not marked 'override'\n",
      "      [-Winconsistent-missing-override]\u001b[0m\n",
      "virtual void reset_state() = 0; \n",
      "\u001b[0;1;32m             ^\n",
      "\u001b[0m\u001b[1m/Users/localharry/PolyNetwork_CppTools/Spike/Spike/Base.hpp:13:14: \u001b[0m\u001b[0;1;30mnote: \u001b[0m\n",
      "      overridden virtual function is here\u001b[0m\n",
      "virtual void reset_state() = 0; \n",
      "\u001b[0;1;32m             ^\n",
      "\u001b[0m\u001b[1m/Users/localharry/PolyNetwork_CppTools/Spike/Spike/Models/../Plasticity/STDPPlasticity.hpp:61:14: \u001b[0m\u001b[0;1;35mwarning: \u001b[0m\u001b[1m\n",
      "      'AddSynapseIndices' overrides a member function but is not marked\n",
      "      'override' [-Winconsistent-missing-override]\u001b[0m\n",
      "virtual void AddSynapseIndices(int synapse_id_start, int num_synapses_to_add); \n",
      "\u001b[0;1;32m             ^\n",
      "\u001b[0m\u001b[1m/Users/localharry/PolyNetwork_CppTools/Spike/Spike/Plasticity/Plasticity.hpp:56:14: \u001b[0m\u001b[0;1;30mnote: \u001b[0m\n",
      "      overridden virtual function is here\u001b[0m\n",
      "virtual void AddSynapseIndices(int synapse_id_start, int num_synapses_to...\n",
      "\u001b[0;1;32m             ^\n",
      "\u001b[0m\u001b[1m/Users/localharry/PolyNetwork_CppTools/Spike/Spike/Models/../ActivityMonitor/ActivityMonitor.hpp:39:14: \u001b[0m\u001b[0;1;35mwarning: \u001b[0m\u001b[1m\n",
      "      'reset_state' overrides a member function but is not marked 'override'\n",
      "      [-Winconsistent-missing-override]\u001b[0m\n",
      "virtual void reset_state() = 0; \n",
      "\u001b[0;1;32m             ^\n",
      "\u001b[0m\u001b[1m/Users/localharry/PolyNetwork_CppTools/Spike/Spike/Base.hpp:13:14: \u001b[0m\u001b[0;1;30mnote: \u001b[0m\n",
      "      overridden virtual function is here\u001b[0m\n",
      "virtual void reset_state() = 0; \n",
      "\u001b[0;1;32m             ^\n",
      "\u001b[0m2 warnings generated.\n",
      "\u001b[1m/Users/localharry/PolyNetwork_CppTools/Spike/Spike/Models/../Plasticity/STDPPlasticity.hpp:61:14: \u001b[0m\u001b[0;1;35mwarning: \u001b[0m\u001b[1m\n",
      "      'AddSynapseIndices' overrides a member function but is not marked\n",
      "      'override' [-Winconsistent-missing-override]\u001b[0m\n",
      "virtual void AddSynapseIndices(int synapse_id_start, int num_synapses_to_add); \n",
      "\u001b[0;1;32m             ^\n",
      "\u001b[0m\u001b[1m/Users/localharry/PolyNetwork_CppTools/Spike/Spike/Plasticity/Plasticity.hpp:56:14: \u001b[0m\u001b[0;1;30mnote: \u001b[0m\n",
      "      overridden virtual function is here\u001b[0m\n",
      "virtual void AddSynapseIndices(int synapse_id_start, int num_synapses_to...\n",
      "\u001b[0;1;32m             ^\n",
      "\u001b[0m\u001b[1m/Users/localharry/PolyNetwork_CppTools/Spike/Spike/Models/../ActivityMonitor/ActivityMonitor.hpp:39:14: \u001b[0m\u001b[0;1;35mwarning: \u001b[0m\u001b[1m\n",
      "      'reset_state' overrides a member function but is not marked 'override'\n",
      "      [-Winconsistent-missing-override]\u001b[0m\n",
      "virtual void reset_state() = 0; \n",
      "\u001b[0;1;32m             ^\n",
      "\u001b[0m\u001b[1m/Users/localharry/PolyNetwork_CppTools/Spike/Spike/Base.hpp:13:14: \u001b[0m\u001b[0;1;30mnote: \u001b[0m\n",
      "      overridden virtual function is here\u001b[0m\n",
      "virtual void reset_state() = 0; \n",
      "\u001b[0;1;32m             ^\n",
      "\u001b[0m[ 44%] \u001b[34m\u001b[1mBuilding /Users/localharry/PolyNetwork_CppTools/Spike/Spike/Backend/CUDA/Neurons/Neurons.cu\u001b[0m\n",
      "\u001b[34mBuilding NVCC Device object /Users/localharry/PolyNetwork_CppTools/Spike/Spike/Backend/CUDA/Neurons/Neurons.cu\u001b[0m\n",
      "2 warnings generated.\n",
      "\u001b[1m/Users/localharry/PolyNetwork_CppTools/Spike/Spike/Models/../Plasticity/STDPPlasticity.hpp:61:14: \u001b[0m\u001b[0;1;35mwarning: \u001b[0m\u001b[1m\n",
      "      'AddSynapseIndices' overrides a member function but is not marked\n",
      "      'override' [-Winconsistent-missing-override]\u001b[0m\n",
      "virtual void AddSynapseIndices(int synapse_id_start, int num_synapses_to_add); \n",
      "\u001b[0;1;32m             ^\n",
      "\u001b[0m\u001b[1m/Users/localharry/PolyNetwork_CppTools/Spike/Spike/Plasticity/Plasticity.hpp:56:14: \u001b[0m\u001b[0;1;30mnote: \u001b[0m\n",
      "      overridden virtual function is here\u001b[0m\n",
      "virtual void AddSynapseIndices(int synapse_id_start, int num_synapses_to...\n",
      "\u001b[0;1;32m             ^\n",
      "\u001b[0m[ 45%] \u001b[34m\u001b[1mBuilding /Users/localharry/PolyNetwork_CppTools/Spike/Spike/Backend/CUDA/Neurons/PatternedPoissonInputSpikingNeurons.cu\u001b[0m\n",
      "[ 47%] \u001b[34m\u001b[1mBuilding /Users/localharry/PolyNetwork_CppTools/Spike/Spike/Backend/CUDA/Neurons/PoissonInputSpikingNeurons.cu\u001b[0m\n",
      "\u001b[1m/Users/localharry/PolyNetwork_CppTools/Spike/Spike/Models/../ActivityMonitor/ActivityMonitor.hpp:39:14: \u001b[0m\u001b[0;1;35mwarning: \u001b[0m\u001b[1m\n",
      "      'reset_state' overrides a member function but is not marked 'override'\n",
      "      [-Winconsistent-missing-override]\u001b[0m\n",
      "virtual void reset_state() = 0; \n",
      "\u001b[0;1;32m             ^\n",
      "\u001b[0m\u001b[1m/Users/localharry/PolyNetwork_CppTools/Spike/Spike/Base.hpp:13:14: \u001b[0m\u001b[0;1;30mnote: \u001b[0m\n",
      "      overridden virtual function is here\u001b[0m\n",
      "virtual void reset_state() = 0; \n",
      "\u001b[0;1;32m             ^\n",
      "\u001b[0m\u001b[34mBuilding NVCC Device object /Users/localharry/PolyNetwork_CppTools/Spike/Spike/Backend/CUDA/Neurons/PatternedPoissonInputSpikingNeurons.cu\u001b[0m\n",
      "\u001b[34mBuilding NVCC Device object /Users/localharry/PolyNetwork_CppTools/Spike/Spike/Backend/CUDA/Neurons/PoissonInputSpikingNeurons.cu\u001b[0m\n",
      "2 warnings generated.\n"
     ]
    },
    {
     "name": "stdout",
     "output_type": "stream",
     "text": [
      "[ 48%] \u001b[34m\u001b[1mBuilding /Users/localharry/PolyNetwork_CppTools/Spike/Spike/Backend/CUDA/Neurons/SpikingNeurons.cu\u001b[0m\n",
      "\u001b[34mBuilding NVCC Device object /Users/localharry/PolyNetwork_CppTools/Spike/Spike/Backend/CUDA/Neurons/SpikingNeurons.cu\u001b[0m\n",
      "2 warnings generated.\n",
      "[ 49%] \u001b[34m\u001b[1mBuilding /Users/localharry/PolyNetwork_CppTools/Spike/Spike/Backend/CUDA/Plasticity/CustomSTDPPlasticity.cu\u001b[0m\n",
      "\u001b[34mBuilding NVCC Device object /Users/localharry/PolyNetwork_CppTools/Spike/Spike/Backend/CUDA/Plasticity/CustomSTDPPlasticity.cu\u001b[0m\n",
      "\u001b[1m/Users/localharry/PolyNetwork_CppTools/Spike/Spike/Models/../Plasticity/STDPPlasticity.hpp:61:14: \u001b[0m\u001b[0;1;35mwarning: \u001b[0m\u001b[1m\n",
      "      'AddSynapseIndices' overrides a member function but is not marked\n",
      "      'override' [-Winconsistent-missing-override]\u001b[0m\n",
      "virtual void AddSynapseIndices(int synapse_id_start, int num_synapses_to_add); \n",
      "\u001b[0;1;32m             ^\n",
      "\u001b[0m\u001b[1m/Users/localharry/PolyNetwork_CppTools/Spike/Spike/Plasticity/Plasticity.hpp:56:14: \u001b[0m\u001b[0;1;30mnote: \u001b[0m\n",
      "      overridden virtual function is here\u001b[0m\n",
      "virtual void AddSynapseIndices(int synapse_id_start, int num_synapses_to...\n",
      "\u001b[0;1;32m             ^\n",
      "\u001b[0m\u001b[1m/Users/localharry/PolyNetwork_CppTools/Spike/Spike/Models/../ActivityMonitor/ActivityMonitor.hpp:39:14: \u001b[0m\u001b[0;1;35mwarning: \u001b[0m\u001b[1m\n",
      "      'reset_state' overrides a member function but is not marked 'override'\n",
      "      [-Winconsistent-missing-override]\u001b[0m\n",
      "virtual void reset_state() = 0; \n",
      "\u001b[0;1;32m             ^\n",
      "\u001b[0m\u001b[1m/Users/localharry/PolyNetwork_CppTools/Spike/Spike/Base.hpp:13:14: \u001b[0m\u001b[0;1;30mnote: \u001b[0m\n",
      "      overridden virtual function is here\u001b[0m\n",
      "virtual void reset_state() = 0; \n",
      "\u001b[0;1;32m             ^\n",
      "\u001b[0m2 warnings generated.\n",
      "[ 50%] \u001b[34m\u001b[1mBuilding /Users/localharry/PolyNetwork_CppTools/Spike/Spike/Backend/CUDA/Plasticity/EvansSTDPPlasticity.cu\u001b[0m\n",
      "\u001b[34mBuilding NVCC Device object /Users/localharry/PolyNetwork_CppTools/Spike/Spike/Backend/CUDA/Plasticity/EvansSTDPPlasticity.cu\u001b[0m\n",
      "\u001b[1m/Users/localharry/PolyNetwork_CppTools/Spike/Spike/Models/../Plasticity/STDPPlasticity.hpp:61:14: \u001b[0m\u001b[0;1;35mwarning: \u001b[0m\u001b[1m\n",
      "      'AddSynapseIndices' overrides a member function but is not marked\n",
      "      'override' [-Winconsistent-missing-override]\u001b[0m\n",
      "virtual void AddSynapseIndices(int synapse_id_start, int num_synapses_to_add); \n",
      "\u001b[0;1;32m             ^\n",
      "\u001b[0m\u001b[1m/Users/localharry/PolyNetwork_CppTools/Spike/Spike/Plasticity/Plasticity.hpp:56:14: \u001b[0m\u001b[0;1;30mnote: \u001b[0m\n",
      "      overridden virtual function is here\u001b[0m\n",
      "virtual void AddSynapseIndices(int synapse_id_start, int num_synapses_to...\n",
      "\u001b[0;1;32m             ^\n",
      "\u001b[0m\u001b[1m/Users/localharry/PolyNetwork_CppTools/Spike/Spike/Models/../ActivityMonitor/ActivityMonitor.hpp:39:14: \u001b[0m\u001b[0;1;35mwarning: \u001b[0m\u001b[1m\n",
      "      'reset_state' overrides a member function but is not marked 'override'\n",
      "      [-Winconsistent-missing-override]\u001b[0m\n",
      "virtual void reset_state() = 0; \n",
      "\u001b[0;1;32m             ^\n",
      "\u001b[0m\u001b[1m/Users/localharry/PolyNetwork_CppTools/Spike/Spike/Base.hpp:13:14: \u001b[0m\u001b[0;1;30mnote: \u001b[0m\n",
      "      overridden virtual function is here\u001b[0m\n",
      "virtual void reset_state() = 0; \n",
      "\u001b[0;1;32m             ^\n",
      "\u001b[0m[ 51%] \u001b[34m\u001b[1mBuilding /Users/localharry/PolyNetwork_CppTools/Spike/Spike/Backend/CUDA/Plasticity/InhibitorySTDPPlasticity.cu\u001b[0m\n",
      "\u001b[34mBuilding NVCC Device object /Users/localharry/PolyNetwork_CppTools/Spike/Spike/Backend/CUDA/Plasticity/InhibitorySTDPPlasticity.cu\u001b[0m\n",
      "2 warnings generated.\n",
      "[ 52%] \u001b[34m\u001b[1mBuilding /Users/localharry/PolyNetwork_CppTools/Spike/Spike/Backend/CUDA/Plasticity/Plasticity.cu\u001b[0m\n",
      "\u001b[34mBuilding NVCC Device object /Users/localharry/PolyNetwork_CppTools/Spike/Spike/Backend/CUDA/Plasticity/Plasticity.cu\u001b[0m\n",
      "\u001b[1m/Users/localharry/PolyNetwork_CppTools/Spike/Spike/Models/../Plasticity/STDPPlasticity.hpp:61:14: \u001b[0m\u001b[0;1;35mwarning: \u001b[0m\u001b[1m\n",
      "      'AddSynapseIndices' overrides a member function but is not marked\n",
      "      'override' [-Winconsistent-missing-override]\u001b[0m\n",
      "virtual void AddSynapseIndices(int synapse_id_start, int num_synapses_to_add); \n",
      "\u001b[0;1;32m             ^\n",
      "\u001b[0m\u001b[1m/Users/localharry/PolyNetwork_CppTools/Spike/Spike/Plasticity/Plasticity.hpp:56:14: \u001b[0m\u001b[0;1;30mnote: \u001b[0m\n",
      "      overridden virtual function is here\u001b[0m\n",
      "virtual void AddSynapseIndices(int synapse_id_start, int num_synapses_to...\n",
      "\u001b[0;1;32m             ^\n",
      "\u001b[0m\u001b[1m/Users/localharry/PolyNetwork_CppTools/Spike/Spike/Models/../ActivityMonitor/ActivityMonitor.hpp:39:14: \u001b[0m\u001b[0;1;35mwarning: \u001b[0m\u001b[1m\n",
      "      'reset_state' overrides a member function but is not marked 'override'\n",
      "      [-Winconsistent-missing-override]\u001b[0m\n",
      "virtual void reset_state() = 0; \n",
      "\u001b[0;1;32m             ^\n",
      "\u001b[0m\u001b[1m/Users/localharry/PolyNetwork_CppTools/Spike/Spike/Base.hpp:13:14: \u001b[0m\u001b[0;1;30mnote: \u001b[0m\n",
      "      overridden virtual function is here\u001b[0m\n",
      "virtual void reset_state() = 0; \n",
      "\u001b[0;1;32m             ^\n",
      "\u001b[0m\u001b[1m/Users/localharry/PolyNetwork_CppTools/Spike/Spike/Models/../Plasticity/STDPPlasticity.hpp:61:14: \u001b[0m\u001b[0;1;35mwarning: \u001b[0m\u001b[1m\n",
      "      'AddSynapseIndices' overrides a member function but is not marked\n",
      "      'override' [-Winconsistent-missing-override]\u001b[0m\n",
      "virtual void AddSynapseIndices(int synapse_id_start, int num_synapses_to_add); \n",
      "\u001b[0;1;32m             ^\n",
      "\u001b[0m\u001b[1m/Users/localharry/PolyNetwork_CppTools/Spike/Spike/Plasticity/Plasticity.hpp:56:14: \u001b[0m\u001b[0;1;30mnote: \u001b[0m\n",
      "      overridden virtual function is here\u001b[0m\n",
      "virtual void AddSynapseIndices(int synapse_id_start, int num_synapses_to...\n",
      "\u001b[0;1;32m             ^\n",
      "\u001b[0m\u001b[1m/Users/localharry/PolyNetwork_CppTools/Spike/Spike/Models/../ActivityMonitor/ActivityMonitor.hpp:39:14: \u001b[0m\u001b[0;1;35mwarning: \u001b[0m\u001b[1m\n",
      "      'reset_state' overrides a member function but is not marked 'override'\n",
      "      [-Winconsistent-missing-override]\u001b[0m\n",
      "virtual void reset_state() = 0; \n",
      "\u001b[0;1;32m             ^\n",
      "\u001b[0m\u001b[1m/Users/localharry/PolyNetwork_CppTools/Spike/Spike/Base.hpp:13:14: \u001b[0m\u001b[0;1;30mnote: \u001b[0m\n",
      "      overridden virtual function is here\u001b[0m\n",
      "virtual void reset_state() = 0; \n",
      "\u001b[0;1;32m             ^\n",
      "\u001b[0m2 warnings generated.\n",
      "[ 54%] \u001b[34m\u001b[1mBuilding /Users/localharry/PolyNetwork_CppTools/Spike/Spike/Backend/CUDA/Plasticity/STDPPlasticity.cu\u001b[0m\n",
      "\u001b[34mBuilding NVCC Device object /Users/localharry/PolyNetwork_CppTools/Spike/Spike/Backend/CUDA/Plasticity/STDPPlasticity.cu\u001b[0m\n",
      "2 warnings generated.\n",
      "[ 55%] \u001b[34m\u001b[1mBuilding /Users/localharry/PolyNetwork_CppTools/Spike/Spike/Backend/CUDA/Plasticity/WeightDependentSTDPPlasticity.cu\u001b[0m\n",
      "\u001b[34mBuilding NVCC Device object /Users/localharry/PolyNetwork_CppTools/Spike/Spike/Backend/CUDA/Plasticity/WeightDependentSTDPPlasticity.cu\u001b[0m\n",
      "\u001b[1m/Users/localharry/PolyNetwork_CppTools/Spike/Spike/Models/../Plasticity/STDPPlasticity.hpp:61:14: \u001b[0m\u001b[0;1;35mwarning: \u001b[0m\u001b[1m\n",
      "      'AddSynapseIndices' overrides a member function but is not marked\n",
      "      'override' [-Winconsistent-missing-override]\u001b[0m\n",
      "virtual void AddSynapseIndices(int synapse_id_start, int num_synapses_to_add); \n",
      "\u001b[0;1;32m             ^\n",
      "\u001b[0m\u001b[1m/Users/localharry/PolyNetwork_CppTools/Spike/Spike/Plasticity/Plasticity.hpp:56:14: \u001b[0m\u001b[0;1;30mnote: \u001b[0m\n",
      "      overridden virtual function is here\u001b[0m\n",
      "virtual void AddSynapseIndices(int synapse_id_start, int num_synapses_to...\n",
      "\u001b[0;1;32m             ^\n",
      "\u001b[0m\u001b[1m/Users/localharry/PolyNetwork_CppTools/Spike/Spike/Models/../ActivityMonitor/ActivityMonitor.hpp:39:14: \u001b[0m\u001b[0;1;35mwarning: \u001b[0m\u001b[1m\n",
      "      'reset_state' overrides a member function but is not marked 'override'\n",
      "      [-Winconsistent-missing-override]\u001b[0m\n",
      "virtual void reset_state() = 0; \n",
      "\u001b[0;1;32m             ^\n",
      "\u001b[0m\u001b[1m/Users/localharry/PolyNetwork_CppTools/Spike/Spike/Base.hpp:13:14: \u001b[0m\u001b[0;1;30mnote: \u001b[0m\n",
      "      overridden virtual function is here\u001b[0m\n",
      "virtual void reset_state() = 0; \n",
      "\u001b[0;1;32m             ^\n",
      "\u001b[0m\u001b[1m/Users/localharry/PolyNetwork_CppTools/Spike/Spike/Models/../Plasticity/STDPPlasticity.hpp:61:14: \u001b[0m\u001b[0;1;35mwarning: \u001b[0m\u001b[1m\n",
      "      'AddSynapseIndices' overrides a member function but is not marked\n",
      "      'override' [-Winconsistent-missing-override]\u001b[0m\n",
      "virtual void AddSynapseIndices(int synapse_id_start, int num_synapses_to_add); \n",
      "\u001b[0;1;32m             ^\n",
      "\u001b[0m\u001b[1m/Users/localharry/PolyNetwork_CppTools/Spike/Spike/Plasticity/Plasticity.hpp:56:14: \u001b[0m\u001b[0;1;30mnote: \u001b[0m\n",
      "      overridden virtual function is here\u001b[0m\n",
      "virtual void AddSynapseIndices(int synapse_id_start, int num_synapses_to...\n",
      "\u001b[0;1;32m             ^\n",
      "\u001b[0m\u001b[1m/Users/localharry/PolyNetwork_CppTools/Spike/Spike/Models/../ActivityMonitor/ActivityMonitor.hpp:39:14: \u001b[0m\u001b[0;1;35mwarning: \u001b[0m\u001b[1m\n",
      "      'reset_state' overrides a member function but is not marked 'override'\n",
      "      [-Winconsistent-missing-override]\u001b[0m\n",
      "virtual void reset_state() = 0; \n",
      "\u001b[0;1;32m             ^\n",
      "\u001b[0m\u001b[1m/Users/localharry/PolyNetwork_CppTools/Spike/Spike/Base.hpp:13:14: \u001b[0m\u001b[0;1;30mnote: \u001b[0m\n",
      "      overridden virtual function is here\u001b[0m\n",
      "virtual void reset_state() = 0; \n",
      "\u001b[0;1;32m             ^\n"
     ]
    },
    {
     "name": "stdout",
     "output_type": "stream",
     "text": [
      "\u001b[0m2 warnings generated.\n",
      "[ 56%] \u001b[34m\u001b[1mBuilding /Users/localharry/PolyNetwork_CppTools/Spike/Spike/Backend/CUDA/Plasticity/WeightNormSTDPPlasticity.cu\u001b[0m\n",
      "\u001b[34mBuilding NVCC Device object /Users/localharry/PolyNetwork_CppTools/Spike/Spike/Backend/CUDA/Plasticity/WeightNormSTDPPlasticity.cu\u001b[0m\n",
      "2 warnings generated.\n",
      "[ 57%] \u001b[34m\u001b[1mBuilding /Users/localharry/PolyNetwork_CppTools/Spike/Spike/Backend/CUDA/Synapses/ConductanceSpikingSynapses.cu\u001b[0m\n",
      "\u001b[34mBuilding NVCC Device object /Users/localharry/PolyNetwork_CppTools/Spike/Spike/Backend/CUDA/Synapses/ConductanceSpikingSynapses.cu\u001b[0m\n",
      "\u001b[1m/Users/localharry/PolyNetwork_CppTools/Spike/Spike/Models/../Plasticity/STDPPlasticity.hpp:61:14: \u001b[0m\u001b[0;1;35mwarning: \u001b[0m\u001b[1m\n",
      "      'AddSynapseIndices' overrides a member function but is not marked\n",
      "      'override' [-Winconsistent-missing-override]\u001b[0m\n",
      "virtual void AddSynapseIndices(int synapse_id_start, int num_synapses_to_add); \n",
      "\u001b[0;1;32m             ^\n",
      "\u001b[0m\u001b[1m/Users/localharry/PolyNetwork_CppTools/Spike/Spike/Plasticity/Plasticity.hpp:56:14: \u001b[0m\u001b[0;1;30mnote: \u001b[0m\n",
      "      overridden virtual function is here\u001b[0m\n",
      "virtual void AddSynapseIndices(int synapse_id_start, int num_synapses_to...\n",
      "\u001b[0;1;32m             ^\n",
      "\u001b[0m\u001b[1m/Users/localharry/PolyNetwork_CppTools/Spike/Spike/Models/../ActivityMonitor/ActivityMonitor.hpp:39:14: \u001b[0m\u001b[0;1;35mwarning: \u001b[0m\u001b[1m\n",
      "      'reset_state' overrides a member function but is not marked 'override'\n",
      "      [-Winconsistent-missing-override]\u001b[0m\n",
      "virtual void reset_state() = 0; \n",
      "\u001b[0;1;32m             ^\n",
      "\u001b[0m\u001b[1m/Users/localharry/PolyNetwork_CppTools/Spike/Spike/Base.hpp:13:14: \u001b[0m\u001b[0;1;30mnote: \u001b[0m\n",
      "      overridden virtual function is here\u001b[0m\n",
      "virtual void reset_state() = 0; \n",
      "\u001b[0;1;32m             ^\n",
      "\u001b[0m2 warnings generated.\n",
      "[ 58%] \u001b[34m\u001b[1mBuilding /Users/localharry/PolyNetwork_CppTools/Spike/Spike/Backend/CUDA/Synapses/CurrentSpikingSynapses.cu\u001b[0m\n",
      "\u001b[34mBuilding NVCC Device object /Users/localharry/PolyNetwork_CppTools/Spike/Spike/Backend/CUDA/Synapses/CurrentSpikingSynapses.cu\u001b[0m\n",
      "\u001b[1m/Users/localharry/PolyNetwork_CppTools/Spike/Spike/Models/../ActivityMonitor/ActivityMonitor.hpp:39:14: \u001b[0m\u001b[0;1;35mwarning: \u001b[0m\u001b[1m\n",
      "      'reset_state' overrides a member function but is not marked 'override'\n",
      "      [-Winconsistent-missing-override]\u001b[0m\n",
      "virtual void reset_state() = 0; \n",
      "\u001b[0;1;32m             ^\n",
      "\u001b[0m\u001b[1m/Users/localharry/PolyNetwork_CppTools/Spike/Spike/Base.hpp:13:14: \u001b[0m\u001b[0;1;30mnote: \u001b[0m\n",
      "      overridden virtual function is here\u001b[0m\n",
      "virtual void reset_state() = 0; \n",
      "\u001b[0;1;32m             ^\n",
      "\u001b[0m\u001b[1m/Users/localharry/PolyNetwork_CppTools/Spike/Spike/Models/../Plasticity/STDPPlasticity.hpp:61:14: \u001b[0m\u001b[0;1;35mwarning: \u001b[0m\u001b[1m\n",
      "      'AddSynapseIndices' overrides a member function but is not marked\n",
      "      'override' [-Winconsistent-missing-override]\u001b[0m\n",
      "virtual void AddSynapseIndices(int synapse_id_start, int num_synapses_to_add); \n",
      "\u001b[0;1;32m             ^\n",
      "\u001b[0m\u001b[1m/Users/localharry/PolyNetwork_CppTools/Spike/Spike/Plasticity/Plasticity.hpp:56:14: \u001b[0m\u001b[0;1;30mnote: \u001b[0m\n",
      "      overridden virtual function is here\u001b[0m\n",
      "virtual void AddSynapseIndices(int synapse_id_start, int num_synapses_to...\n",
      "\u001b[0;1;32m             ^\n",
      "\u001b[0m[ 60%] \u001b[34m\u001b[1mBuilding /Users/localharry/PolyNetwork_CppTools/Spike/Spike/Backend/CUDA/Synapses/SpikingSynapses.cu\u001b[0m\n",
      "\u001b[34mBuilding NVCC Device object /Users/localharry/PolyNetwork_CppTools/Spike/Spike/Backend/CUDA/Synapses/SpikingSynapses.cu\u001b[0m\n",
      "2 warnings generated.\n",
      "[ 61%] \u001b[34m\u001b[1mBuilding /Users/localharry/PolyNetwork_CppTools/Spike/Spike/Backend/CUDA/Synapses/Synapses.cu\u001b[0m\n",
      "\u001b[34mBuilding NVCC Device object /Users/localharry/PolyNetwork_CppTools/Spike/Spike/Backend/CUDA/Synapses/Synapses.cu\u001b[0m\n",
      "\u001b[1m/Users/localharry/PolyNetwork_CppTools/Spike/Spike/Models/../Plasticity/STDPPlasticity.hpp:61:14: \u001b[0m\u001b[0;1;35mwarning: \u001b[0m\u001b[1m\n",
      "      'AddSynapseIndices' overrides a member function but is not marked\n",
      "      'override' [-Winconsistent-missing-override]\u001b[0m\n",
      "virtual void AddSynapseIndices(int synapse_id_start, int num_synapses_to_add); \n",
      "\u001b[0;1;32m             ^\n",
      "\u001b[0m\u001b[1m/Users/localharry/PolyNetwork_CppTools/Spike/Spike/Plasticity/Plasticity.hpp:56:14: \u001b[0m\u001b[0;1;30mnote: \u001b[0m\n",
      "      overridden virtual function is here\u001b[0m\n",
      "virtual void AddSynapseIndices(int synapse_id_start, int num_synapses_to...\n",
      "\u001b[0;1;32m             ^\n",
      "\u001b[0m\u001b[1m/Users/localharry/PolyNetwork_CppTools/Spike/Spike/Models/../ActivityMonitor/ActivityMonitor.hpp:39:14: \u001b[0m\u001b[0;1;35mwarning: \u001b[0m\u001b[1m\n",
      "      'reset_state' overrides a member function but is not marked 'override'\n",
      "      [-Winconsistent-missing-override]\u001b[0m\n",
      "virtual void reset_state() = 0; \n",
      "\u001b[0;1;32m             ^\n",
      "\u001b[0m\u001b[1m/Users/localharry/PolyNetwork_CppTools/Spike/Spike/Base.hpp:13:14: \u001b[0m\u001b[0;1;30mnote: \u001b[0m\n",
      "      overridden virtual function is here\u001b[0m\n",
      "virtual void reset_state() = 0; \n",
      "\u001b[0;1;32m             ^\n",
      "\u001b[0m2 warnings generated.\n",
      "\u001b[1m/Users/localharry/PolyNetwork_CppTools/Spike/Spike/Models/../ActivityMonitor/ActivityMonitor.hpp:39:14: \u001b[0m\u001b[0;1;35mwarning: \u001b[0m\u001b[1m\n",
      "      'reset_state' overrides a member function but is not marked 'override'\n",
      "      [-Winconsistent-missing-override]\u001b[0m\n",
      "virtual void reset_state() = 0; \n",
      "\u001b[0;1;32m             ^\n",
      "\u001b[0m\u001b[1m/Users/localharry/PolyNetwork_CppTools/Spike/Spike/Base.hpp:13:14: \u001b[0m\u001b[0;1;30mnote: \u001b[0m\n",
      "      overridden virtual function is here\u001b[0m\n",
      "virtual void reset_state() = 0; \n",
      "\u001b[0;1;32m             ^\n",
      "\u001b[0m\u001b[1m/Users/localharry/PolyNetwork_CppTools/Spike/Spike/Models/../Plasticity/STDPPlasticity.hpp:61:14: \u001b[0m\u001b[0;1;35mwarning: \u001b[0m\u001b[1m\n",
      "      'AddSynapseIndices' overrides a member function but is not marked\n",
      "      'override' [-Winconsistent-missing-override]\u001b[0m\n",
      "virtual void AddSynapseIndices(int synapse_id_start, int num_synapses_to_add); \n",
      "\u001b[0;1;32m             ^\n",
      "\u001b[0m\u001b[1m/Users/localharry/PolyNetwork_CppTools/Spike/Spike/Plasticity/Plasticity.hpp:56:14: \u001b[0m\u001b[0;1;30mnote: \u001b[0m\n",
      "      overridden virtual function is here\u001b[0m\n",
      "virtual void AddSynapseIndices(int synapse_id_start, int num_synapses_to...\n",
      "\u001b[0;1;32m             ^\n",
      "\u001b[0m2 warnings generated.\n",
      "\u001b[1m/Users/localharry/PolyNetwork_CppTools/Spike/Spike/Models/../Plasticity/STDPPlasticity.hpp:61:14: \u001b[0m\u001b[0;1;35mwarning: \u001b[0m\u001b[1m\n",
      "      'AddSynapseIndices' overrides a member function but is not marked\n",
      "      'override' [-Winconsistent-missing-override]\u001b[0m\n",
      "virtual void AddSynapseIndices(int synapse_id_start, int num_synapses_to_add); \n",
      "\u001b[0;1;32m             ^\n",
      "\u001b[0m\u001b[1m/Users/localharry/PolyNetwork_CppTools/Spike/Spike/Plasticity/Plasticity.hpp:56:14: \u001b[0m\u001b[0;1;30mnote: \u001b[0m\n",
      "      overridden virtual function is here\u001b[0m\n",
      "virtual void AddSynapseIndices(int synapse_id_start, int num_synapses_to...\n",
      "\u001b[0;1;32m             ^\n",
      "\u001b[0m\u001b[1m/Users/localharry/PolyNetwork_CppTools/Spike/Spike/Models/../ActivityMonitor/ActivityMonitor.hpp:39:14: \u001b[0m\u001b[0;1;35mwarning: \u001b[0m\u001b[1m\n",
      "      'reset_state' overrides a member function but is not marked 'override'\n",
      "      [-Winconsistent-missing-override]\u001b[0m\n",
      "virtual void reset_state() = 0; \n",
      "\u001b[0;1;32m             ^\n",
      "\u001b[0m\u001b[1m/Users/localharry/PolyNetwork_CppTools/Spike/Spike/Base.hpp:13:14: \u001b[0m\u001b[0;1;30mnote: \u001b[0m\n",
      "      overridden virtual function is here\u001b[0m\n",
      "virtual void reset_state() = 0; \n",
      "\u001b[0;1;32m             ^\n",
      "\u001b[0m2 warnings generated.\n",
      "\u001b[1m/Users/localharry/PolyNetwork_CppTools/Spike/Spike/Models/../ActivityMonitor/ActivityMonitor.hpp:39:14: \u001b[0m\u001b[0;1;35mwarning: \u001b[0m\u001b[1m\n",
      "      'reset_state' overrides a member function but is not marked 'override'\n",
      "      [-Winconsistent-missing-override]\u001b[0m\n",
      "virtual void reset_state() = 0; \n",
      "\u001b[0;1;32m             ^\n",
      "\u001b[0m\u001b[1m/Users/localharry/PolyNetwork_CppTools/Spike/Spike/Base.hpp:13:14: \u001b[0m\u001b[0;1;30mnote: \u001b[0m\n",
      "      overridden virtual function is here\u001b[0m\n",
      "virtual void reset_state() = 0; \n",
      "\u001b[0;1;32m             ^\n",
      "\u001b[0m\u001b[1m/Users/localharry/PolyNetwork_CppTools/Spike/Spike/Models/../Plasticity/STDPPlasticity.hpp:61:14: \u001b[0m\u001b[0;1;35mwarning: \u001b[0m\u001b[1m\n",
      "      'AddSynapseIndices' overrides a member function but is not marked\n",
      "      'override' [-Winconsistent-missing-override]\u001b[0m\n",
      "virtual void AddSynapseIndices(int synapse_id_start, int num_synapses_to_add); \n",
      "\u001b[0;1;32m             ^\n",
      "\u001b[0m\u001b[1m/Users/localharry/PolyNetwork_CppTools/Spike/Spike/Plasticity/Plasticity.hpp:56:14: \u001b[0m\u001b[0;1;30mnote: \u001b[0m\n",
      "      overridden virtual function is here\u001b[0m\n",
      "virtual void AddSynapseIndices(int synapse_id_start, int num_synapses_to...\n",
      "\u001b[0;1;32m             ^\n"
     ]
    },
    {
     "name": "stdout",
     "output_type": "stream",
     "text": [
      "\u001b[0m\u001b[1m/Users/localharry/PolyNetwork_CppTools/Spike/Spike/Models/../Plasticity/STDPPlasticity.hpp:61:14: \u001b[0m\u001b[0;1;35mwarning: \u001b[0m\u001b[1m\n",
      "      'AddSynapseIndices' overrides a member function but is not marked\n",
      "      'override' [-Winconsistent-missing-override]\u001b[0m\n",
      "virtual void AddSynapseIndices(int synapse_id_start, int num_synapses_to_add); \n",
      "\u001b[0;1;32m             ^\n",
      "\u001b[0m\u001b[1m/Users/localharry/PolyNetwork_CppTools/Spike/Spike/Plasticity/Plasticity.hpp:56:14: \u001b[0m\u001b[0;1;30mnote: \u001b[0m\n",
      "      overridden virtual function is here\u001b[0m\n",
      "virtual void AddSynapseIndices(int synapse_id_start, int num_synapses_to...\n",
      "\u001b[0;1;32m             ^\n",
      "\u001b[0m\u001b[1m/Users/localharry/PolyNetwork_CppTools/Spike/Spike/Models/../ActivityMonitor/ActivityMonitor.hpp:39:14: \u001b[0m\u001b[0;1;35mwarning: \u001b[0m\u001b[1m\n",
      "      'reset_state' overrides a member function but is not marked 'override'\n",
      "      [-Winconsistent-missing-override]\u001b[0m\n",
      "virtual void reset_state() = 0; \n",
      "\u001b[0;1;32m             ^\n",
      "\u001b[0m\u001b[1m/Users/localharry/PolyNetwork_CppTools/Spike/Spike/Base.hpp:13:14: \u001b[0m\u001b[0;1;30mnote: \u001b[0m\n",
      "      overridden virtual function is here\u001b[0m\n",
      "virtual void reset_state() = 0; \n",
      "\u001b[0;1;32m             ^\n",
      "\u001b[0m2 warnings generated.\n",
      "\u001b[1m/Users/localharry/PolyNetwork_CppTools/Spike/Spike/Models/../Plasticity/STDPPlasticity.hpp:61:14: \u001b[0m\u001b[0;1;35mwarning: \u001b[0m\u001b[1m\n",
      "      'AddSynapseIndices' overrides a member function but is not marked\n",
      "      'override' [-Winconsistent-missing-override]\u001b[0m\n",
      "virtual void AddSynapseIndices(int synapse_id_start, int num_synapses_to_add); \n",
      "\u001b[0;1;32m             ^\n",
      "\u001b[0m\u001b[1m/Users/localharry/PolyNetwork_CppTools/Spike/Spike/Plasticity/Plasticity.hpp:56:14: \u001b[0m\u001b[0;1;30mnote: \u001b[0m\n",
      "      overridden virtual function is here\u001b[0m\n",
      "virtual void AddSynapseIndices(int synapse_id_start, int num_synapses_to...\n",
      "\u001b[0;1;32m             ^\n",
      "\u001b[0m\u001b[1m/Users/localharry/PolyNetwork_CppTools/Spike/Spike/Models/../ActivityMonitor/ActivityMonitor.hpp:39:14: \u001b[0m\u001b[0;1;35mwarning: \u001b[0m\u001b[1m\n",
      "      'reset_state' overrides a member function but is not marked 'override'\n",
      "      [-Winconsistent-missing-override]\u001b[0m\n",
      "virtual void reset_state() = 0; \n",
      "\u001b[0;1;32m             ^\n",
      "\u001b[0m\u001b[1m/Users/localharry/PolyNetwork_CppTools/Spike/Spike/Base.hpp:13:14: \u001b[0m\u001b[0;1;30mnote: \u001b[0m\n",
      "      overridden virtual function is here\u001b[0m\n",
      "virtual void reset_state() = 0; \n",
      "\u001b[0;1;32m             ^\n",
      "\u001b[0m2 warnings generated.\n",
      "2 warnings generated.\n",
      "\u001b[1m/Users/localharry/PolyNetwork_CppTools/Spike/Spike/Models/../Plasticity/STDPPlasticity.hpp:61:14: \u001b[0m\u001b[0;1;35mwarning: \u001b[0m\u001b[1m\n",
      "      'AddSynapseIndices' overrides a member function but is not marked\n",
      "      'override' [-Winconsistent-missing-override]\u001b[0m\n",
      "virtual void AddSynapseIndices(int synapse_id_start, int num_synapses_to_add); \n",
      "\u001b[0;1;32m             ^\n",
      "\u001b[0m\u001b[1m/Users/localharry/PolyNetwork_CppTools/Spike/Spike/Plasticity/Plasticity.hpp:56:14: \u001b[0m\u001b[0;1;30mnote: \u001b[0m\n",
      "      overridden virtual function is here\u001b[0m\n",
      "virtual void AddSynapseIndices(int synapse_id_start, int num_synapses_to...\n",
      "\u001b[0;1;32m             ^\n",
      "\u001b[0m\u001b[1m/Users/localharry/PolyNetwork_CppTools/Spike/Spike/Models/../ActivityMonitor/ActivityMonitor.hpp:39:14: \u001b[0m\u001b[0;1;35mwarning: \u001b[0m\u001b[1m\n",
      "      'reset_state' overrides a member function but is not marked 'override'\n",
      "      [-Winconsistent-missing-override]\u001b[0m\n",
      "virtual void reset_state() = 0; \n",
      "\u001b[0;1;32m             ^\n",
      "\u001b[0m\u001b[1m/Users/localharry/PolyNetwork_CppTools/Spike/Spike/Base.hpp:13:14: \u001b[0m\u001b[0;1;30mnote: \u001b[0m\n",
      "      overridden virtual function is here\u001b[0m\n",
      "virtual void reset_state() = 0; \n",
      "\u001b[0;1;32m             ^\n",
      "\u001b[0m2 warnings generated.\n",
      "[ 62%] \u001b[34m\u001b[1mLinking SpikeCUDA\u001b[0m\n",
      "\u001b[31mLinking CXX executable SpikeCUDA\u001b[0m\n",
      "nvlink warning : Function '_ZN7Backend4CUDA44conductance_spiking_current_injection_kernelEPNS0_28spiking_synapses_data_structEPNS0_27spiking_neurons_data_structEffjfii' has address taken but no possible call to it\n",
      "nvlink warning : Function '_ZN7Backend4CUDA40current_spiking_current_injection_kernelEPNS0_28spiking_synapses_data_structEPNS0_27spiking_neurons_data_structEffjfii' has address taken but no possible call to it\n",
      "nvlink warning : Function '_ZN7Backend4CUDA32spiking_current_injection_kernelEPNS0_28spiking_synapses_data_structEPNS0_27spiking_neurons_data_structEffjfii' has address taken but no possible call to it\n",
      "nvlink warning : Function '_ZN7Backend4CUDA19get_active_synapsesEPNS0_28spiking_synapses_data_structEPNS0_27spiking_neurons_data_structEiiib' has address taken but no possible call to it\n",
      "nvlink warning : Function '_ZN7Backend4CUDA40voltage_spiking_current_injection_kernelEPNS0_28spiking_synapses_data_structEPNS0_27spiking_neurons_data_structEffjfii' has address taken but no possible call to it\n",
      "[ 62%] Built target SpikeCUDA\n",
      "\u001b[35m\u001b[1mScanning dependencies of target Spike\u001b[0m\n",
      "[ 64%] \u001b[32mBuilding CXX object Spike/Build/Spike/CMakeFiles/Spike.dir/ActivityMonitor/SpikingActivityMonitor.cpp.o\u001b[0m\n",
      "[ 68%] \u001b[32mBuilding CXX object Spike/Build/Spike/CMakeFiles/Spike.dir/Helpers/FstreamWrapper.cpp.o\u001b[0m\n",
      "[ 68%] \u001b[32mBuilding CXX object Spike/Build/Spike/CMakeFiles/Spike.dir/ActivityMonitor/ActivityMonitor.cpp.o\u001b[0m\n",
      "[ 68%] \u001b[32mBuilding CXX object Spike/Build/Spike/CMakeFiles/Spike.dir/Backend/Context.cpp.o\u001b[0m\n",
      "[ 69%] \u001b[32mBuilding CXX object Spike/Build/Spike/CMakeFiles/Spike.dir/ActivityMonitor/RateActivityMonitor.cpp.o\u001b[0m\n",
      "[ 70%] \u001b[32mBuilding CXX object Spike/Build/Spike/CMakeFiles/Spike.dir/Helpers/Memory.cpp.o\u001b[0m\n",
      "[ 70%] \u001b[32mBuilding CXX object Spike/Build/Spike/CMakeFiles/Spike.dir/Helpers/RandomStateManager.cpp.o\u001b[0m\n",
      "[ 71%] \u001b[32mBuilding CXX object Spike/Build/Spike/CMakeFiles/Spike.dir/Helpers/TimerWithMessages.cpp.o\u001b[0m\n",
      "In file included from /Users/localharry/PolyNetwork_CppTools/Spike/Spike/ActivityMonitor/ActivityMonitor.cpp:1:\n",
      "In file included from /Users/localharry/PolyNetwork_CppTools/Spike/Spike/ActivityMonitor/ActivityMonitor.hpp:15:\n",
      "In file included from /Users/localharry/PolyNetwork_CppTools/Spike/Spike/Models/SpikingModel.hpp:10:\n",
      "In file included from /Users/localharry/PolyNetwork_CppTools/Spike/Spike/ActivityMonitor/RateActivityMonitor.cpp:1:\n",
      "In file included from /Users/localharry/PolyNetwork_CppTools/Spike/Spike/ActivityMonitor/RateActivityMonitor.hpp:5:\n",
      "In file included from /Users/localharry/PolyNetwork_CppTools/Spike/Spike/ActivityMonitor/../ActivityMonitor/ActivityMonitor.hpp:15:\n",
      "In file included from /Users/localharry/PolyNetwork_CppTools/Spike/Spike/Models/SpikingModel.hpp:10:\n",
      "\u001b[1m/Users/localharry/PolyNetwork_CppTools/Spike/Spike/Models/../Plasticity/STDPPlasticity.hpp\u001b[1m:/Users/localharry/PolyNetwork_CppTools/Spike/Spike/Models/../Plasticity/STDPPlasticity.hpp61::6116::16 :\u001b[0m \u001b[0;1;35m\u001b[0mwarning\u001b[0;1;35m: warning\u001b[0m: \u001b[1m\u001b[0m\n",
      "\u001b[1m      \n",
      "'AddSynapseIndices'       'AddSynapseIndices'overrides  overridesa  amember  memberfunction  functionbut  butis  isnot  notmarked \n",
      "marked      \n",
      "'override'       'override'[-Winconsistent-missing-override] \u001b[0m[-Winconsistent-missing-override]\n",
      "\u001b[0m\n",
      "  virtual void AddSynapseIndices(int synapse_id_start, int num_synapses_to_add);  virtual void AddSynapseIndices(int synapse_id_start, int num_synapses_to_add);\n",
      "\n",
      "\u001b[0;1;32m\u001b[0;1;32m               ^               ^\n",
      "\n",
      "\u001b[0m\u001b[0m\u001b[1m/Users/localharry/PolyNetwork_CppTools/Spike/Spike/Plasticity/Plasticity.hpp:56\u001b[1m/Users/localharry/PolyNetwork_CppTools/Spike/Spike/Plasticity/Plasticity.hpp::1656:: 16\u001b[0m:\u001b[0;1;30m note\u001b[0m: \u001b[0;1;30m\u001b[0mnote\n",
      ":       \u001b[0moverridden\n",
      "       virtualoverridden  functionvirtual  isfunction  hereis\u001b[0m \n",
      "here\u001b[0m\n",
      "  virtual void AddSynapseIndices(int synapse_id_start, int num_synapses_...\n",
      "  virtual void AddSynapseIndices(int synapse_id_start, int num_synapses_...\u001b[0;1;32m\n",
      "               ^\u001b[0;1;32m\n",
      "               ^\u001b[0m\n",
      "\u001b[0mIn file included from /Users/localharry/PolyNetwork_CppTools/Spike/Spike/ActivityMonitor/SpikingActivityMonitor.cpp:1:\n",
      "In file included from /Users/localharry/PolyNetwork_CppTools/Spike/Spike/ActivityMonitor/SpikingActivityMonitor.hpp:5:\n",
      "In file included from /Users/localharry/PolyNetwork_CppTools/Spike/Spike/ActivityMonitor/../ActivityMonitor/ActivityMonitor.hpp:15:\n",
      "In file included from /Users/localharry/PolyNetwork_CppTools/Spike/Spike/Models/SpikingModel.hpp:10:\n",
      "\u001b[1m/Users/localharry/PolyNetwork_CppTools/Spike/Spike/Models/../Plasticity/STDPPlasticity.hpp:61:16: \u001b[0m\u001b[0;1;35mwarning: \u001b[0m\u001b[1m\n",
      "      'AddSynapseIndices' overrides a member function but is not marked\n",
      "      'override' [-Winconsistent-missing-override]\u001b[0m\n",
      "  virtual void AddSynapseIndices(int synapse_id_start, int num_synapses_to_add);\n",
      "\u001b[0;1;32m               ^\n",
      "\u001b[0m\u001b[1m/Users/localharry/PolyNetwork_CppTools/Spike/Spike/Plasticity/Plasticity.hpp:56:16: \u001b[0m\u001b[0;1;30mnote: \u001b[0m\n",
      "      overridden virtual function is here\u001b[0m\n",
      "  virtual void AddSynapseIndices(int synapse_id_start, int num_synapses_...\n",
      "\u001b[0;1;32m               ^\n",
      "\u001b[0mIn file included from /Users/localharry/PolyNetwork_CppTools/Spike/Spike/ActivityMonitor/ActivityMonitor.cpp:1:\n",
      "\u001b[1m/Users/localharry/PolyNetwork_CppTools/Spike/Spike/Models/../ActivityMonitor/ActivityMonitor.hpp:39:16: \u001b[0m\u001b[0;1;35mwarning: \u001b[0m\u001b[1m\n",
      "      'reset_state' overrides a member function but is not marked 'override'\n",
      "      [-Winconsistent-missing-override]\u001b[0m\n",
      "  virtual void reset_state() = 0;\n",
      "\u001b[0;1;32m               ^\n",
      "\u001b[0m\u001b[1m/Users/localharry/PolyNetwork_CppTools/Spike/Spike/Base.hpp:13:16: \u001b[0m\u001b[0;1;30mnote: \u001b[0m\n",
      "      overridden virtual function is here\u001b[0m\n",
      "  virtual void reset_state() = 0;\n",
      "\u001b[0;1;32m               ^\n",
      "\u001b[0mIn file included from /Users/localharry/PolyNetwork_CppTools/Spike/Spike/ActivityMonitor/RateActivityMonitor.cpp:1:\n",
      "In file included from /Users/localharry/PolyNetwork_CppTools/Spike/Spike/ActivityMonitor/RateActivityMonitor.hpp:5:\n",
      "\u001b[1m/Users/localharry/PolyNetwork_CppTools/Spike/Spike/Models/../ActivityMonitor/ActivityMonitor.hpp:39:16: \u001b[0m\u001b[0;1;35mwarning: \u001b[0m\u001b[1m\n",
      "      'reset_state' overrides a member function but is not marked 'override'\n",
      "      [-Winconsistent-missing-override]\u001b[0m\n",
      "  virtual void reset_state() = 0;\n",
      "\u001b[0;1;32m               ^\n",
      "\u001b[0m\u001b[1m/Users/localharry/PolyNetwork_CppTools/Spike/Spike/Base.hpp:13:16: \u001b[0m\u001b[0;1;30mnote: \u001b[0m\n",
      "      overridden virtual function is here\u001b[0m\n",
      "  virtual void reset_state() = 0;\n",
      "\u001b[0;1;32m               ^\n",
      "\u001b[0mIn file included from /Users/localharry/PolyNetwork_CppTools/Spike/Spike/ActivityMonitor/SpikingActivityMonitor.cpp:1:\n",
      "In file included from /Users/localharry/PolyNetwork_CppTools/Spike/Spike/ActivityMonitor/SpikingActivityMonitor.hpp:5:\n",
      "\u001b[1m/Users/localharry/PolyNetwork_CppTools/Spike/Spike/Models/../ActivityMonitor/ActivityMonitor.hpp:39:16: \u001b[0m\u001b[0;1;35mwarning: \u001b[0m\u001b[1m\n",
      "      'reset_state' overrides a member function but is not marked 'override'\n",
      "      [-Winconsistent-missing-override]\u001b[0m\n",
      "  virtual void reset_state() = 0;\n",
      "\u001b[0;1;32m               ^\n",
      "\u001b[0m\u001b[1m/Users/localharry/PolyNetwork_CppTools/Spike/Spike/Base.hpp:13:16: \u001b[0m\u001b[0;1;30mnote: \u001b[0m\n",
      "      overridden virtual function is here\u001b[0m\n",
      "  virtual void reset_state() = 0;\n",
      "\u001b[0;1;32m               ^\n",
      "\u001b[0m[ 72%] \u001b[32mBuilding CXX object Spike/Build/Spike/CMakeFiles/Spike.dir/Models/SpikingModel.cpp.o\u001b[0m\n",
      "[ 74%] \u001b[32mBuilding CXX object Spike/Build/Spike/CMakeFiles/Spike.dir/Neurons/GeneratorInputSpikingNeurons.cpp.o\u001b[0m\n"
     ]
    },
    {
     "name": "stdout",
     "output_type": "stream",
     "text": [
      "2 warnings generated.\n",
      "[ 75%] \u001b[32mBuilding CXX object Spike/Build/Spike/CMakeFiles/Spike.dir/Neurons/ImagePoissonInputSpikingNeurons.cpp.o\u001b[0m\n",
      "[ 76%] \u001b[32mBuilding CXX object Spike/Build/Spike/CMakeFiles/Spike.dir/Neurons/InputSpikingNeurons.cpp.o\u001b[0m\n",
      "[ 78%] \u001b[32mBuilding CXX object Spike/Build/Spike/CMakeFiles/Spike.dir/Neurons/LIFSpikingNeurons.cpp.o\u001b[0m\n",
      "[ 78%] \u001b[32mBuilding CXX object Spike/Build/Spike/CMakeFiles/Spike.dir/Neurons/Neurons.cpp.o\u001b[0m\n",
      "2 warnings generated.\n",
      "[ 80%] \u001b[32mBuilding CXX object Spike/Build/Spike/CMakeFiles/Spike.dir/Neurons/PatternedPoissonInputSpikingNeurons.cpp.o\u001b[0m\n",
      "2 warnings generated.\n",
      "[ 81%] \u001b[32mBuilding CXX object Spike/Build/Spike/CMakeFiles/Spike.dir/Neurons/PoissonInputSpikingNeurons.cpp.o\u001b[0m\n",
      "In file included from /Users/localharry/PolyNetwork_CppTools/Spike/Spike/Models/SpikingModel.cpp:1:\n",
      "In file included from /Users/localharry/PolyNetwork_CppTools/Spike/Spike/Models/SpikingModel.hpp:10:\n",
      "\u001b[1m/Users/localharry/PolyNetwork_CppTools/Spike/Spike/Models/../Plasticity/STDPPlasticity.hpp:61:16: \u001b[0m\u001b[0;1;35mwarning: \u001b[0m\u001b[1m\n",
      "      'AddSynapseIndices' overrides a member function but is not marked\n",
      "      'override' [-Winconsistent-missing-override]\u001b[0m\n",
      "  virtual void AddSynapseIndices(int synapse_id_start, int num_synapses_to_add);\n",
      "\u001b[0;1;32m               ^\n",
      "\u001b[0m\u001b[1m/Users/localharry/PolyNetwork_CppTools/Spike/Spike/Plasticity/Plasticity.hpp:56:16: \u001b[0m\u001b[0;1;30mnote: \u001b[0m\n",
      "      overridden virtual function is here\u001b[0m\n",
      "  virtual void AddSynapseIndices(int synapse_id_start, int num_synapses_...\n",
      "\u001b[0;1;32m               ^\n",
      "\u001b[0mIn file included from /Users/localharry/PolyNetwork_CppTools/Spike/Spike/Neurons/GeneratorInputSpikingNeurons.cpp:1:\n",
      "In file included from /Users/localharry/PolyNetwork_CppTools/Spike/Spike/Neurons/GeneratorInputSpikingNeurons.hpp:4:\n",
      "In file included from /Users/localharry/PolyNetwork_CppTools/Spike/Spike/Neurons/InputSpikingNeurons.hpp:8:\n",
      "In file included from /Users/localharry/PolyNetwork_CppTools/Spike/Spike/Neurons/SpikingNeurons.hpp:9:\n",
      "In file included from /Users/localharry/PolyNetwork_CppTools/Spike/Spike/Models/SpikingModel.hpp:10:\n",
      "\u001b[1m/Users/localharry/PolyNetwork_CppTools/Spike/Spike/Models/../Plasticity/STDPPlasticity.hpp:61:16: \u001b[0m\u001b[0;1;35mwarning: \u001b[0m\u001b[1m\n",
      "      'AddSynapseIndices' overrides a member function but is not marked\n",
      "In file included from       /Users/localharry/PolyNetwork_CppTools/Spike/Spike/Models/SpikingModel.cpp'override': 1[-Winconsistent-missing-override]:\n",
      "\u001b[0mIn file included from \n",
      "/Users/localharry/PolyNetwork_CppTools/Spike/Spike/Models/SpikingModel.hpp:15:\n",
      "\u001b[1m/Users/localharry/PolyNetwork_CppTools/Spike/Spike/Models/../ActivityMonitor/ActivityMonitor.hpp:39:16: \u001b[0m\u001b[0;1;35mwarning: \u001b[0m\u001b[1m\n",
      "      'reset_state' overrides a member function  virtual void AddSynapseIndices(int synapse_id_start, int num_synapses_to_add); \n",
      "but\u001b[0;1;32m                ^is\n",
      " \u001b[0mnot marked 'override'\n",
      "\u001b[1m      /Users/localharry/PolyNetwork_CppTools/Spike/Spike/Plasticity/Plasticity.hpp[-Winconsistent-missing-override]:\u001b[0m56\n",
      ":16: \u001b[0m\u001b[0;1;30mnote: \u001b[0m\n",
      "  virtual void reset_state() = 0;      \n",
      "overridden\u001b[0;1;32m                ^virtual\n",
      " \u001b[0mfunction is \u001b[1mhere/Users/localharry/PolyNetwork_CppTools/Spike/Spike/Base.hpp\u001b[0m:\n",
      "13:16: \u001b[0m\u001b[0;1;30mnote: \u001b[0m\n",
      "      overridden virtual function  virtual void AddSynapseIndices(int synapse_id_start, int num_synapses_... \n",
      "is \u001b[0;1;32mhere               ^\u001b[0m\n",
      "\n",
      "\u001b[0m  virtual void reset_state() = 0;\n",
      "\u001b[0;1;32m               ^\n",
      "\u001b[0mIn file included from /Users/localharry/PolyNetwork_CppTools/Spike/Spike/Neurons/GeneratorInputSpikingNeurons.cpp:1:\n",
      "In file included from /Users/localharry/PolyNetwork_CppTools/Spike/Spike/Neurons/GeneratorInputSpikingNeurons.hpp:4:\n",
      "In file included from /Users/localharry/PolyNetwork_CppTools/Spike/Spike/Neurons/InputSpikingNeurons.hpp:8:\n",
      "In file included from /Users/localharry/PolyNetwork_CppTools/Spike/Spike/Models/../Neurons/SpikingNeurons.hpp:9:\n",
      "In file included from /Users/localharry/PolyNetwork_CppTools/Spike/Spike/Models/SpikingModel.hpp:15:\n",
      "\u001b[1m/Users/localharry/PolyNetwork_CppTools/Spike/Spike/Models/../ActivityMonitor/ActivityMonitor.hpp:39:16: \u001b[0m\u001b[0;1;35mwarning: \u001b[0m\u001b[1m\n",
      "      'reset_state' overrides a member function but is not marked 'override'\n",
      "      [-Winconsistent-missing-override]\u001b[0m\n",
      "  virtual void reset_state() = 0;\n",
      "\u001b[0;1;32m               ^\n",
      "\u001b[0m\u001b[1m/Users/localharry/PolyNetwork_CppTools/Spike/Spike/Base.hpp:13:16: \u001b[0m\u001b[0;1;30mnote: \u001b[0m\n",
      "      overridden virtual function is here\u001b[0m\n",
      "  virtual void reset_state() = 0;\n",
      "\u001b[0;1;32m               ^\n",
      "\u001b[0mIn file included from /Users/localharry/PolyNetwork_CppTools/Spike/Spike/Neurons/ImagePoissonInputSpikingNeurons.cpp:1:\n",
      "In file included from /Users/localharry/PolyNetwork_CppTools/Spike/Spike/Neurons/ImagePoissonInputSpikingNeurons.hpp:6:\n",
      "In file included from /Users/localharry/PolyNetwork_CppTools/Spike/Spike/Neurons/PoissonInputSpikingNeurons.hpp:4:\n",
      "In file included from /Users/localharry/PolyNetwork_CppTools/Spike/Spike/Neurons/InputSpikingNeurons.hpp:8:\n",
      "In file included from /Users/localharry/PolyNetwork_CppTools/Spike/Spike/Neurons/SpikingNeurons.hpp:9:\n",
      "In file included from /Users/localharry/PolyNetwork_CppTools/Spike/Spike/Models/SpikingModel.hpp:10:\n",
      "\u001b[1m/Users/localharry/PolyNetwork_CppTools/Spike/Spike/Models/../Plasticity/STDPPlasticity.hpp:61:16: \u001b[0m\u001b[0;1;35mwarning: \u001b[0m\u001b[1m\n",
      "      'AddSynapseIndices' overrides a member function but is not marked\n",
      "      'override' [-Winconsistent-missing-override]\u001b[0m\n",
      "  virtual void AddSynapseIndices(int synapse_id_start, int num_synapses_to_add);\n",
      "\u001b[0;1;32m               ^\n",
      "\u001b[0m\u001b[1m/Users/localharry/PolyNetwork_CppTools/Spike/Spike/Plasticity/Plasticity.hpp:56:16: \u001b[0m\u001b[0;1;30mnote: \u001b[0m\n",
      "      overridden virtual function is here\u001b[0m\n",
      "  virtual void AddSynapseIndices(int synapse_id_start, int num_synapses_...\n",
      "\u001b[0;1;32m               ^\n",
      "\u001b[0mIn file included from /Users/localharry/PolyNetwork_CppTools/Spike/Spike/Neurons/ImagePoissonInputSpikingNeurons.cpp:1:\n",
      "In file included from /Users/localharry/PolyNetwork_CppTools/Spike/Spike/Neurons/ImagePoissonInputSpikingNeurons.hpp:6:\n",
      "In file included from /Users/localharry/PolyNetwork_CppTools/Spike/Spike/Neurons/PoissonInputSpikingNeurons.hpp:4:\n",
      "In file included from /Users/localharry/PolyNetwork_CppTools/Spike/Spike/Neurons/InputSpikingNeurons.hpp:8:\n",
      "In file included from /Users/localharry/PolyNetwork_CppTools/Spike/Spike/Models/../Neurons/SpikingNeurons.hpp:9:\n",
      "In file included from /Users/localharry/PolyNetwork_CppTools/Spike/Spike/Models/SpikingModel.hpp:15:\n",
      "\u001b[1m/Users/localharry/PolyNetwork_CppTools/Spike/Spike/Models/../ActivityMonitor/ActivityMonitor.hpp:39:16: \u001b[0m\u001b[0;1;35mwarning: \u001b[0m\u001b[1m\n",
      "      'reset_state' overrides a member function but is not marked 'override'\n",
      "      [-Winconsistent-missing-override]\u001b[0m\n",
      "  virtual void reset_state() = 0;\n",
      "\u001b[0;1;32m               ^\n",
      "\u001b[0m\u001b[1m/Users/localharry/PolyNetwork_CppTools/Spike/Spike/Base.hpp:13:16: \u001b[0m\u001b[0;1;30mnote: \u001b[0m\n",
      "      overridden virtual function is here\u001b[0m\n",
      "  virtual void reset_state() = 0;\n",
      "\u001b[0;1;32m               ^\n",
      "\u001b[0mIn file included from /Users/localharry/PolyNetwork_CppTools/Spike/Spike/Neurons/InputSpikingNeurons.cpp:1:\n",
      "In file included from /Users/localharry/PolyNetwork_CppTools/Spike/Spike/Neurons/InputSpikingNeurons.hpp:8:\n",
      "In file included from /Users/localharry/PolyNetwork_CppTools/Spike/Spike/Neurons/SpikingNeurons.hpp:9:\n",
      "In file included from /Users/localharry/PolyNetwork_CppTools/Spike/Spike/Models/SpikingModel.hpp:10:\n",
      "\u001b[1m/Users/localharry/PolyNetwork_CppTools/Spike/Spike/Models/../Plasticity/STDPPlasticity.hpp:61:16: \u001b[0m\u001b[0;1;35mwarning: \u001b[0m\u001b[1m\n",
      "      'AddSynapseIndices' overrides a member function but is not marked\n",
      "      'override' [-Winconsistent-missing-override]\u001b[0m\n",
      "  virtual void AddSynapseIndices(int synapse_id_start, int num_synapses_to_add);\n",
      "\u001b[0;1;32m               ^\n",
      "\u001b[0m\u001b[1m/Users/localharry/PolyNetwork_CppTools/Spike/Spike/Plasticity/Plasticity.hpp:56:16: \u001b[0m\u001b[0;1;30mnote: \u001b[0m\n",
      "      overridden virtual function is here\u001b[0m\n",
      "  virtual void AddSynapseIndices(int synapse_id_start, int num_synapses_...\n",
      "\u001b[0;1;32m               ^\n",
      "\u001b[0mIn file included from /Users/localharry/PolyNetwork_CppTools/Spike/Spike/Neurons/InputSpikingNeurons.cpp:1:\n",
      "In file included from /Users/localharry/PolyNetwork_CppTools/Spike/Spike/Neurons/InputSpikingNeurons.hpp:8:\n",
      "In file included from /Users/localharry/PolyNetwork_CppTools/Spike/Spike/Models/../Neurons/SpikingNeurons.hpp:9:\n",
      "In file included from /Users/localharry/PolyNetwork_CppTools/Spike/Spike/Models/SpikingModel.hpp:15:\n",
      "\u001b[1m/Users/localharry/PolyNetwork_CppTools/Spike/Spike/Models/../ActivityMonitor/ActivityMonitor.hpp:39:16: \u001b[0m\u001b[0;1;35mwarning: \u001b[0m\u001b[1m\n",
      "      'reset_state' overrides a member function but is not marked 'override'\n",
      "      [-Winconsistent-missing-override]\u001b[0m\n",
      "  virtual void reset_state() = 0;\n",
      "\u001b[0;1;32m               ^\n",
      "\u001b[0m\u001b[1m/Users/localharry/PolyNetwork_CppTools/Spike/Spike/Base.hpp:13:16: \u001b[0m\u001b[0;1;30mnote: \u001b[0m\n",
      "      overridden virtual function is here\u001b[0m\n",
      "  virtual void reset_state() = 0;\n",
      "\u001b[0;1;32m               ^\n"
     ]
    },
    {
     "name": "stdout",
     "output_type": "stream",
     "text": [
      "\u001b[0m[ 82%] \u001b[32mBuilding CXX object Spike/Build/Spike/CMakeFiles/Spike.dir/Neurons/SpikingNeurons.cpp.o\u001b[0m\n",
      "2 warnings generated.\n",
      "In file included from /Users/localharry/PolyNetwork_CppTools/Spike/Spike/Neurons/LIFSpikingNeurons.cpp:1:\n",
      "In file included from /Users/localharry/PolyNetwork_CppTools/Spike/Spike/Neurons/LIFSpikingNeurons.hpp:4:\n",
      "In file included from /Users/localharry/PolyNetwork_CppTools/Spike/Spike/Neurons/SpikingNeurons.hpp:9:\n",
      "In file included from /Users/localharry/PolyNetwork_CppTools/Spike/Spike/Models/SpikingModel.hpp:10:\n",
      "\u001b[1m/Users/localharry/PolyNetwork_CppTools/Spike/Spike/Models/../Plasticity/STDPPlasticity.hpp:61:16: \u001b[0m\u001b[0;1;35mwarning: \u001b[0m\u001b[1m\n",
      "      'AddSynapseIndices' overrides a member function but is not marked\n",
      "      'override' [-Winconsistent-missing-override]\u001b[0m\n",
      "  virtual void AddSynapseIndices(int synapse_id_start, int num_synapses_to_add);\n",
      "\u001b[0;1;32m               ^\n",
      "\u001b[0m\u001b[1m/Users/localharry/PolyNetwork_CppTools/Spike/Spike/Plasticity/Plasticity.hpp:56:16: \u001b[0m\u001b[0;1;30mnote: \u001b[0m\n",
      "      overridden virtual function is here\u001b[0m\n",
      "  virtual void AddSynapseIndices(int synapse_id_start, int num_synapses_...\n",
      "\u001b[0;1;32m               ^\n",
      "\u001b[0mIn file included from /Users/localharry/PolyNetwork_CppTools/Spike/Spike/Neurons/LIFSpikingNeurons.cpp:1:\n",
      "In file included from /Users/localharry/PolyNetwork_CppTools/Spike/Spike/Neurons/LIFSpikingNeurons.hpp:4:\n",
      "In file included from /Users/localharry/PolyNetwork_CppTools/Spike/Spike/Models/../Neurons/SpikingNeurons.hpp:9:\n",
      "In file included from /Users/localharry/PolyNetwork_CppTools/Spike/Spike/Models/SpikingModel.hpp:15:\n",
      "\u001b[1m/Users/localharry/PolyNetwork_CppTools/Spike/Spike/Models/../ActivityMonitor/ActivityMonitor.hpp:39:16: \u001b[0m\u001b[0;1;35mwarning: \u001b[0m\u001b[1m\n",
      "      'reset_state' overrides a member function but is not marked 'override'\n",
      "      [-Winconsistent-missing-override]\u001b[0m\n",
      "  virtual void reset_state() = 0;\n",
      "\u001b[0;1;32m               ^\n",
      "\u001b[0m\u001b[1m/Users/localharry/PolyNetwork_CppTools/Spike/Spike/Base.hpp:13:16: \u001b[0m\u001b[0;1;30mnote: \u001b[0m\n",
      "      overridden virtual function is here\u001b[0m\n",
      "  virtual void reset_state() = 0;\n",
      "\u001b[0;1;32m               ^\n",
      "\u001b[0m[ 83%] \u001b[32mBuilding CXX object Spike/Build/Spike/CMakeFiles/Spike.dir/Plasticity/CustomSTDPPlasticity.cpp.o\u001b[0m\n",
      "2 warnings generated.\n",
      "[ 84%] \u001b[32mBuilding CXX object Spike/Build/Spike/CMakeFiles/Spike.dir/Plasticity/EvansSTDPPlasticity.cpp.o\u001b[0m\n",
      "In file included from /Users/localharry/PolyNetwork_CppTools/Spike/Spike/Neurons/PatternedPoissonInputSpikingNeurons.cpp:1:\n",
      "In file included from /Users/localharry/PolyNetwork_CppTools/Spike/Spike/Neurons/PatternedPoissonInputSpikingNeurons.hpp:6:\n",
      "In file included from /Users/localharry/PolyNetwork_CppTools/Spike/Spike/Neurons/PoissonInputSpikingNeurons.hpp:4:\n",
      "In file included from /Users/localharry/PolyNetwork_CppTools/Spike/Spike/Neurons/InputSpikingNeurons.hpp:8:\n",
      "In file included from /Users/localharry/PolyNetwork_CppTools/Spike/Spike/Neurons/SpikingNeurons.hpp:9:\n",
      "In file included from /Users/localharry/PolyNetwork_CppTools/Spike/Spike/Models/SpikingModel.hpp:10:\n",
      "\u001b[1m/Users/localharry/PolyNetwork_CppTools/Spike/Spike/Models/../Plasticity/STDPPlasticity.hpp:61:16: \u001b[0m\u001b[0;1;35mwarning: \u001b[0m\u001b[1m\n",
      "      'AddSynapseIndices' overrides a member function but is not marked\n",
      "      'override' [-Winconsistent-missing-override]\u001b[0m\n",
      "  virtual void AddSynapseIndices(int synapse_id_start, int num_synapses_to_add);\n",
      "\u001b[0;1;32m               ^\n",
      "\u001b[0m\u001b[1m/Users/localharry/PolyNetwork_CppTools/Spike/Spike/Plasticity/Plasticity.hpp:56:16: \u001b[0m\u001b[0;1;30mnote: \u001b[0m\n",
      "      overridden virtual function is here\u001b[0m\n",
      "  virtual void AddSynapseIndices(int synapse_id_start, int num_synapses_...\n",
      "\u001b[0;1;32m               ^\n",
      "\u001b[0mIn file included from /Users/localharry/PolyNetwork_CppTools/Spike/Spike/Neurons/PatternedPoissonInputSpikingNeurons.cpp:1:\n",
      "In file included from /Users/localharry/PolyNetwork_CppTools/Spike/Spike/Neurons/PatternedPoissonInputSpikingNeurons.hpp:6:\n",
      "In file included from /Users/localharry/PolyNetwork_CppTools/Spike/Spike/Neurons/PoissonInputSpikingNeurons.hpp:4:\n",
      "In file included from /Users/localharry/PolyNetwork_CppTools/Spike/Spike/Neurons/InputSpikingNeurons.hpp:8:\n",
      "In file included from /Users/localharry/PolyNetwork_CppTools/Spike/Spike/Models/../Neurons/SpikingNeurons.hpp:9:\n",
      "In file included from /Users/localharry/PolyNetwork_CppTools/Spike/Spike/Models/SpikingModel.hpp:15:\n",
      "\u001b[1m/Users/localharry/PolyNetwork_CppTools/Spike/Spike/Models/../ActivityMonitor/ActivityMonitor.hpp:39:16: \u001b[0m\u001b[0;1;35mwarning: \u001b[0m\u001b[1m\n",
      "      'reset_state' overrides a member function but is not marked 'override'\n",
      "      [-Winconsistent-missing-override]\u001b[0m\n",
      "  virtual void reset_state() = 0;\n",
      "\u001b[0;1;32m               ^\n",
      "\u001b[0m\u001b[1m/Users/localharry/PolyNetwork_CppTools/Spike/Spike/Base.hpp:13:16: \u001b[0m\u001b[0;1;30mnote: \u001b[0m\n",
      "      overridden virtual function is here\u001b[0m\n",
      "  virtual void reset_state() = 0;\n",
      "\u001b[0;1;32m               ^\n",
      "\u001b[0m2 warnings generated.\n",
      "In file included from /Users/localharry/PolyNetwork_CppTools/Spike/Spike/Neurons/PoissonInputSpikingNeurons.cpp:1:\n",
      "In file included from /Users/localharry/PolyNetwork_CppTools/Spike/Spike/Neurons/PoissonInputSpikingNeurons.hpp:4:\n",
      "In file included from /Users/localharry/PolyNetwork_CppTools/Spike/Spike/Neurons/InputSpikingNeurons.hpp:8:\n",
      "In file included from /Users/localharry/PolyNetwork_CppTools/Spike/Spike/Neurons/SpikingNeurons.hpp:9:\n",
      "In file included from /Users/localharry/PolyNetwork_CppTools/Spike/Spike/Models/SpikingModel.hpp:10:\n",
      "\u001b[1m/Users/localharry/PolyNetwork_CppTools/Spike/Spike/Models/../Plasticity/STDPPlasticity.hpp:61:16: \u001b[0m\u001b[0;1;35mwarning: \u001b[0m\u001b[1m\n",
      "      'AddSynapseIndices' overrides a member function but is not marked\n",
      "      'override' [-Winconsistent-missing-override]\u001b[0m\n",
      "  virtual void AddSynapseIndices(int synapse_id_start, int num_synapses_to_add);\n",
      "\u001b[0;1;32m               ^\n",
      "\u001b[0m\u001b[1m/Users/localharry/PolyNetwork_CppTools/Spike/Spike/Plasticity/Plasticity.hpp:56:16: \u001b[0m\u001b[0;1;30mnote: \u001b[0m\n",
      "      overridden virtual function is here\u001b[0m\n",
      "  virtual void AddSynapseIndices(int synapse_id_start, int num_synapses_...\n",
      "\u001b[0;1;32m               ^\n",
      "\u001b[0mIn file included from /Users/localharry/PolyNetwork_CppTools/Spike/Spike/Neurons/PoissonInputSpikingNeurons.cpp:1:\n",
      "In file included from /Users/localharry/PolyNetwork_CppTools/Spike/Spike/Neurons/PoissonInputSpikingNeurons.hpp:4:\n",
      "In file included from /Users/localharry/PolyNetwork_CppTools/Spike/Spike/Neurons/InputSpikingNeurons.hpp:8:\n",
      "In file included from /Users/localharry/PolyNetwork_CppTools/Spike/Spike/Models/../Neurons/SpikingNeurons.hpp:9:\n",
      "In file included from /Users/localharry/PolyNetwork_CppTools/Spike/Spike/Models/SpikingModel.hpp:15:\n",
      "\u001b[1m/Users/localharry/PolyNetwork_CppTools/Spike/Spike/Models/../ActivityMonitor/ActivityMonitor.hpp:39:16: \u001b[0m\u001b[0;1;35mwarning: \u001b[0m\u001b[1m\n",
      "      'reset_state' overrides a member function but is not marked 'override'\n",
      "      [-Winconsistent-missing-override]\u001b[0m\n",
      "  virtual void reset_state() = 0;\n",
      "\u001b[0;1;32m               ^\n",
      "\u001b[0m\u001b[1m/Users/localharry/PolyNetwork_CppTools/Spike/Spike/Base.hpp:13:16: \u001b[0m\u001b[0;1;30mnote: \u001b[0m\n",
      "      overridden virtual function is here\u001b[0m\n",
      "  virtual void reset_state() = 0;\n",
      "\u001b[0;1;32m               ^\n",
      "\u001b[0m[ 85%] \u001b[32mBuilding CXX object Spike/Build/Spike/CMakeFiles/Spike.dir/Plasticity/InhibitorySTDPPlasticity.cpp.o\u001b[0m\n",
      "2 warnings generated.\n",
      "[ 87%] \u001b[32mBuilding CXX object Spike/Build/Spike/CMakeFiles/Spike.dir/Plasticity/Plasticity.cpp.o\u001b[0m\n",
      "2 warnings generated.\n",
      "[ 88%] \u001b[32mBuilding CXX object Spike/Build/Spike/CMakeFiles/Spike.dir/Plasticity/STDPPlasticity.cpp.o\u001b[0m\n",
      "2 warnings generated.\n",
      "2 warnings generated.\n",
      "[ 89%] \u001b[32mBuilding CXX object Spike/Build/Spike/CMakeFiles/Spike.dir/Plasticity/WeightDependentSTDPPlasticity.cpp.o\u001b[0m\n",
      "[ 90%] \u001b[32mBuilding CXX object Spike/Build/Spike/CMakeFiles/Spike.dir/Plasticity/WeightNormSTDPPlasticity.cpp.o\u001b[0m\n",
      "In file included from /Users/localharry/PolyNetwork_CppTools/Spike/Spike/Neurons/SpikingNeurons.cpp:1:\n",
      "In file included from /Users/localharry/PolyNetwork_CppTools/Spike/Spike/Neurons/SpikingNeurons.hpp:9:\n",
      "In file included from /Users/localharry/PolyNetwork_CppTools/Spike/Spike/Models/SpikingModel.hpp:10:\n",
      "\u001b[1m/Users/localharry/PolyNetwork_CppTools/Spike/Spike/Models/../Plasticity/STDPPlasticity.hpp:61:16: \u001b[0m\u001b[0;1;35mwarning: \u001b[0m\u001b[1m\n",
      "      'AddSynapseIndices' overrides a member function but is not marked\n",
      "      'override' [-Winconsistent-missing-override]\u001b[0m\n",
      "  virtual void AddSynapseIndices(int synapse_id_start, int num_synapses_to_add);\n",
      "\u001b[0;1;32m               ^\n",
      "\u001b[0m\u001b[1m/Users/localharry/PolyNetwork_CppTools/Spike/Spike/Plasticity/Plasticity.hpp:56:16: \u001b[0m\u001b[0;1;30mnote: \u001b[0m\n",
      "      overridden virtual function is here\u001b[0m\n",
      "  virtual void AddSynapseIndices(int synapse_id_start, int num_synapses_...\n",
      "\u001b[0;1;32m               ^\n",
      "\u001b[0mIn file included from /Users/localharry/PolyNetwork_CppTools/Spike/Spike/Neurons/SpikingNeurons.cpp:1:\n",
      "In file included from /Users/localharry/PolyNetwork_CppTools/Spike/Spike/Models/../Neurons/SpikingNeurons.hpp:9:\n",
      "In file included from /Users/localharry/PolyNetwork_CppTools/Spike/Spike/Models/SpikingModel.hpp:15:\n",
      "\u001b[1m/Users/localharry/PolyNetwork_CppTools/Spike/Spike/Models/../ActivityMonitor/ActivityMonitor.hpp:39:16: \u001b[0m\u001b[0;1;35mwarning: \u001b[0m\u001b[1m\n",
      "      'reset_state' overrides a member function but is not marked 'override'\n",
      "      [-Winconsistent-missing-override]\u001b[0m\n",
      "  virtual void reset_state() = 0;\n",
      "\u001b[0;1;32m               ^\n",
      "\u001b[0m\u001b[1m/Users/localharry/PolyNetwork_CppTools/Spike/Spike/Base.hpp:13:16: \u001b[0m\u001b[0;1;30mnote: \u001b[0m\n",
      "      overridden virtual function is here\u001b[0m\n",
      "  virtual void reset_state() = 0;\n",
      "\u001b[0;1;32m               ^\n"
     ]
    },
    {
     "name": "stdout",
     "output_type": "stream",
     "text": [
      "\u001b[0mIn file included from /Users/localharry/PolyNetwork_CppTools/Spike/Spike/Plasticity/CustomSTDPPlasticity.cpp:8:\n",
      "In file included from /Users/localharry/PolyNetwork_CppTools/Spike/Spike/Plasticity/CustomSTDPPlasticity.hpp:5:\n",
      "In file included from /Users/localharry/PolyNetwork_CppTools/Spike/Spike/Synapses/SpikingSynapses.hpp:7:\n",
      "In file included from /Users/localharry/PolyNetwork_CppTools/Spike/Spike/Models/SpikingModel.hpp:10:\n",
      "\u001b[1m/Users/localharry/PolyNetwork_CppTools/Spike/Spike/Models/../Plasticity/STDPPlasticity.hpp:61:16: \u001b[0m\u001b[0;1;35mwarning: \u001b[0m\u001b[1m\n",
      "      'AddSynapseIndices' overrides a member function but is not marked\n",
      "      'override' [-Winconsistent-missing-override]\u001b[0m\n",
      "  virtual void AddSynapseIndices(int synapse_id_start, int num_synapses_to_add);\n",
      "\u001b[0;1;32m               ^\n",
      "\u001b[0m\u001b[1m/Users/localharry/PolyNetwork_CppTools/Spike/Spike/Plasticity/Plasticity.hpp:56:16: \u001b[0m\u001b[0;1;30mnote: \u001b[0m\n",
      "      overridden virtual function is here\u001b[0m\n",
      "  virtual void AddSynapseIndices(int synapse_id_start, int num_synapses_...\n",
      "\u001b[0;1;32m               ^\n",
      "\u001b[0mIn file included from /Users/localharry/PolyNetwork_CppTools/Spike/Spike/Plasticity/CustomSTDPPlasticity.cpp:8:\n",
      "In file included from /Users/localharry/PolyNetwork_CppTools/Spike/Spike/Plasticity/CustomSTDPPlasticity.hpp:5:\n",
      "In file included from /Users/localharry/PolyNetwork_CppTools/Spike/Spike/Synapses/SpikingSynapses.hpp:7:\n",
      "In file included from /Users/localharry/PolyNetwork_CppTools/Spike/Spike/Models/SpikingModel.hpp:15:\n",
      "\u001b[1m/Users/localharry/PolyNetwork_CppTools/Spike/Spike/Models/../ActivityMonitor/ActivityMonitor.hpp:39:16: \u001b[0m\u001b[0;1;35mwarning: \u001b[0m\u001b[1m\n",
      "      'reset_state' overrides a member function but is not marked 'override'\n",
      "      [-Winconsistent-missing-override]\u001b[0m\n",
      "  virtual void reset_state() = 0;\n",
      "\u001b[0;1;32m               ^\n",
      "\u001b[0m\u001b[1m/Users/localharry/PolyNetwork_CppTools/Spike/Spike/Base.hpp:13:16: \u001b[0m\u001b[0;1;30mnote: \u001b[0m\n",
      "      overridden virtual function is here\u001b[0m\n",
      "  virtual void reset_state() = 0;\n",
      "\u001b[0;1;32m               ^\n",
      "\u001b[0mIn file included from /Users/localharry/PolyNetwork_CppTools/Spike/Spike/Plasticity/EvansSTDPPlasticity.cpp:7:\n",
      "In file included from /Users/localharry/PolyNetwork_CppTools/Spike/Spike/Plasticity/EvansSTDPPlasticity.hpp:12:\n",
      "In file included from /Users/localharry/PolyNetwork_CppTools/Spike/Spike/Models/../Plasticity/STDPPlasticity.hpp:18:\n",
      "In file included from /Users/localharry/PolyNetwork_CppTools/Spike/Spike/Models/../Synapses/SpikingSynapses.hpp:7:\n",
      "In file included from /Users/localharry/PolyNetwork_CppTools/Spike/Spike/Models/SpikingModel.hpp:15:\n",
      "\u001b[1m/Users/localharry/PolyNetwork_CppTools/Spike/Spike/Models/../ActivityMonitor/ActivityMonitor.hpp:39:16: \u001b[0m\u001b[0;1;35mwarning: \u001b[0m\u001b[1m\n",
      "      'reset_state' overrides a member function but is not marked 'override'\n",
      "      [-Winconsistent-missing-override]\u001b[0m\n",
      "  virtual void reset_state() = 0;\n",
      "\u001b[0;1;32m               ^\n",
      "\u001b[0m\u001b[1m/Users/localharry/PolyNetwork_CppTools/Spike/Spike/Base.hpp:13:16: \u001b[0m\u001b[0;1;30mnote: \u001b[0m\n",
      "      overridden virtual function is here\u001b[0m\n",
      "  virtual void reset_state() = 0;\n",
      "\u001b[0;1;32m               ^\n",
      "\u001b[0mIn file included from /Users/localharry/PolyNetwork_CppTools/Spike/Spike/Plasticity/EvansSTDPPlasticity.cpp:7:\n",
      "In file included from /Users/localharry/PolyNetwork_CppTools/Spike/Spike/Plasticity/EvansSTDPPlasticity.hpp:12:\n",
      "\u001b[1m/Users/localharry/PolyNetwork_CppTools/Spike/Spike/Models/../Plasticity/STDPPlasticity.hpp:61:16: \u001b[0m\u001b[0;1;35mwarning: \u001b[0m\u001b[1m\n",
      "      'AddSynapseIndices' overrides a member function but is not marked\n",
      "      'override' [-Winconsistent-missing-override]\u001b[0m\n",
      "  virtual void AddSynapseIndices(int synapse_id_start, int num_synapses_to_add);\n",
      "\u001b[0;1;32m               ^\n",
      "\u001b[0m\u001b[1m/Users/localharry/PolyNetwork_CppTools/Spike/Spike/Plasticity/Plasticity.hpp:56:16: \u001b[0m\u001b[0;1;30mnote: \u001b[0m\n",
      "      overridden virtual function is here\u001b[0m\n",
      "  virtual void AddSynapseIndices(int synapse_id_start, int num_synapses_...\n",
      "\u001b[0;1;32m               ^\n",
      "\u001b[0mIn file included from /Users/localharry/PolyNetwork_CppTools/Spike/Spike/Plasticity/InhibitorySTDPPlasticity.cpp:6:\n",
      "In file included from /Users/localharry/PolyNetwork_CppTools/Spike/Spike/Plasticity/InhibitorySTDPPlasticity.hpp:15:\n",
      "In file included from /Users/localharry/PolyNetwork_CppTools/Spike/Spike/Synapses/SpikingSynapses.hpp:7:\n",
      "In file included from /Users/localharry/PolyNetwork_CppTools/Spike/Spike/Models/SpikingModel.hpp:10:\n",
      "\u001b[1m/Users/localharry/PolyNetwork_CppTools/Spike/Spike/Models/../Plasticity/STDPPlasticity.hpp:61:16: \u001b[0m\u001b[0;1;35mwarning: \u001b[0m\u001b[1m\n",
      "      'AddSynapseIndices' overrides a member function but is not marked\n",
      "      'override' [-Winconsistent-missing-override]\u001b[0m\n",
      "  virtual void AddSynapseIndices(int synapse_id_start, int num_synapses_to_add);\n",
      "\u001b[0;1;32m               ^\n",
      "\u001b[0m\u001b[1m/Users/localharry/PolyNetwork_CppTools/Spike/Spike/Plasticity/Plasticity.hpp:56:16: \u001b[0m\u001b[0;1;30mnote: \u001b[0m\n",
      "      overridden virtual function is here\u001b[0m\n",
      "  virtual void AddSynapseIndices(int synapse_id_start, int num_synapses_...\n",
      "\u001b[0;1;32m               ^\n",
      "\u001b[0mIn file included from /Users/localharry/PolyNetwork_CppTools/Spike/Spike/Plasticity/InhibitorySTDPPlasticity.cpp:6:\n",
      "In file included from /Users/localharry/PolyNetwork_CppTools/Spike/Spike/Plasticity/InhibitorySTDPPlasticity.hpp:15:\n",
      "In file included from /Users/localharry/PolyNetwork_CppTools/Spike/Spike/Synapses/SpikingSynapses.hpp:7:\n",
      "In file included from /Users/localharry/PolyNetwork_CppTools/Spike/Spike/Models/SpikingModel.hpp:15:\n",
      "\u001b[1m/Users/localharry/PolyNetwork_CppTools/Spike/Spike/Models/../ActivityMonitor/ActivityMonitor.hpp:39:16: \u001b[0m\u001b[0;1;35mwarning: \u001b[0m\u001b[1m\n",
      "      'reset_state' overrides a member function but is not marked 'override'\n",
      "      [-Winconsistent-missing-override]\u001b[0m\n",
      "  virtual void reset_state() = 0;\n",
      "\u001b[0;1;32m               ^\n",
      "\u001b[0m\u001b[1m/Users/localharry/PolyNetwork_CppTools/Spike/Spike/Base.hpp:13:16: \u001b[0m\u001b[0;1;30mnote: \u001b[0m\n",
      "      overridden virtual function is here\u001b[0m\n",
      "  virtual void reset_state() = 0;\n",
      "\u001b[0;1;32m               ^\n",
      "\u001b[0m2 warnings generated.\n",
      "[ 91%] \u001b[32mBuilding CXX object Spike/Build/Spike/CMakeFiles/Spike.dir/Synapses/ConductanceSpikingSynapses.cpp.o\u001b[0m\n",
      "2 warnings generated.\n",
      "[ 92%] \u001b[32mBuilding CXX object Spike/Build/Spike/CMakeFiles/Spike.dir/Synapses/CurrentSpikingSynapses.cpp.o\u001b[0m\n",
      "2 warnings generated.\n",
      "[ 94%] \u001b[32mBuilding CXX object Spike/Build/Spike/CMakeFiles/Spike.dir/Synapses/SpikingSynapses.cpp.o\u001b[0m\n",
      "[ 95%] \u001b[32mBuilding CXX object Spike/Build/Spike/CMakeFiles/Spike.dir/Synapses/Synapses.cpp.o\u001b[0m\n",
      "In file included from /Users/localharry/PolyNetwork_CppTools/Spike/Spike/Plasticity/STDPPlasticity.cpp:1:\n",
      "In file included from /Users/localharry/PolyNetwork_CppTools/Spike/Spike/Models/../Plasticity/STDPPlasticity.hpp:18:\n",
      "In file included from /Users/localharry/PolyNetwork_CppTools/Spike/Spike/Models/../Synapses/SpikingSynapses.hpp:7:\n",
      "In file included from /Users/localharry/PolyNetwork_CppTools/Spike/Spike/Models/SpikingModel.hpp:15:\n",
      "\u001b[1m/Users/localharry/PolyNetwork_CppTools/Spike/Spike/Models/../ActivityMonitor/ActivityMonitor.hpp:39:16: \u001b[0m\u001b[0;1;35mwarning: \u001b[0m\u001b[1m\n",
      "      'reset_state' overrides a member function but is not marked 'override'\n",
      "      [-Winconsistent-missing-override]\u001b[0m\n",
      "  virtual void reset_state() = 0;\n",
      "\u001b[0;1;32m               ^\n",
      "\u001b[0m\u001b[1m/Users/localharry/PolyNetwork_CppTools/Spike/Spike/Base.hpp:13:16: \u001b[0m\u001b[0;1;30mnote: \u001b[0m\n",
      "      overridden virtual function is here\u001b[0m\n",
      "  virtual void reset_state() = 0;\n",
      "\u001b[0;1;32m               ^\n",
      "\u001b[0mIn file included from /Users/localharry/PolyNetwork_CppTools/Spike/Spike/Plasticity/STDPPlasticity.cpp:1:\n",
      "\u001b[1m/Users/localharry/PolyNetwork_CppTools/Spike/Spike/Models/../Plasticity/STDPPlasticity.hpp:61:16: \u001b[0m\u001b[0;1;35mwarning: \u001b[0m\u001b[1m\n",
      "      'AddSynapseIndices' overrides a member function but is not marked\n",
      "      'override' [-Winconsistent-missing-override]\u001b[0m\n",
      "  virtual void AddSynapseIndices(int synapse_id_start, int num_synapses_to_add);\n",
      "\u001b[0;1;32m               ^\n",
      "\u001b[0m\u001b[1m/Users/localharry/PolyNetwork_CppTools/Spike/Spike/Plasticity/Plasticity.hpp:56:16: \u001b[0m\u001b[0;1;30mnote: \u001b[0m\n",
      "      overridden virtual function is here\u001b[0m\n",
      "  virtual void AddSynapseIndices(int synapse_id_start, int num_synapses_...\n",
      "\u001b[0;1;32m               ^\n",
      "\u001b[0m2 warnings generated.\n",
      "In file included from /Users/localharry/PolyNetwork_CppTools/Spike/Spike/Plasticity/WeightDependentSTDPPlasticity.cpp:8:\n",
      "In file included from /Users/localharry/PolyNetwork_CppTools/Spike/Spike/Plasticity/WeightDependentSTDPPlasticity.hpp:5:\n",
      "In file included from /Users/localharry/PolyNetwork_CppTools/Spike/Spike/Synapses/SpikingSynapses.hpp:7:\n",
      "In file included from /Users/localharry/PolyNetwork_CppTools/Spike/Spike/Models/SpikingModel.hpp:10:\n",
      "\u001b[1m/Users/localharry/PolyNetwork_CppTools/Spike/Spike/Models/../Plasticity/STDPPlasticity.hpp:61:16: \u001b[0m\u001b[0;1;35mwarning: \u001b[0m\u001b[1m\n",
      "      'AddSynapseIndices' overrides a member function but is not marked\n",
      "      'override' [-Winconsistent-missing-override]\u001b[0m\n",
      "  virtual void AddSynapseIndices(int synapse_id_start, int num_synapses_to_add);\n",
      "\u001b[0;1;32m               ^\n",
      "\u001b[0m\u001b[1m/Users/localharry/PolyNetwork_CppTools/Spike/Spike/Plasticity/Plasticity.hpp:56:16: \u001b[0m\u001b[0;1;30mnote: \u001b[0m\n",
      "      overridden virtual function is here\u001b[0m\n",
      "  virtual void AddSynapseIndices(int synapse_id_start, int num_synapses_...\n",
      "\u001b[0;1;32m               ^\n"
     ]
    },
    {
     "name": "stdout",
     "output_type": "stream",
     "text": [
      "\u001b[0mIn file included from /Users/localharry/PolyNetwork_CppTools/Spike/Spike/Plasticity/WeightDependentSTDPPlasticity.cpp:8:\n",
      "In file included from /Users/localharry/PolyNetwork_CppTools/Spike/Spike/Plasticity/WeightDependentSTDPPlasticity.hpp:5:\n",
      "In file included from /Users/localharry/PolyNetwork_CppTools/Spike/Spike/Synapses/SpikingSynapses.hpp:7:\n",
      "In file included from /Users/localharry/PolyNetwork_CppTools/Spike/Spike/Models/SpikingModel.hpp:15:\n",
      "\u001b[1m/Users/localharry/PolyNetwork_CppTools/Spike/Spike/Models/../ActivityMonitor/ActivityMonitor.hpp:39:16: \u001b[0m\u001b[0;1;35mwarning: \u001b[0m\u001b[1m\n",
      "      'reset_state' overrides a member function but is not marked 'override'\n",
      "      [-Winconsistent-missing-override]\u001b[0m\n",
      "  virtual void reset_state() = 0;\n",
      "\u001b[0;1;32m               ^\n",
      "\u001b[0m\u001b[1m/Users/localharry/PolyNetwork_CppTools/Spike/Spike/Base.hpp:13:16: \u001b[0m\u001b[0;1;30mnote: \u001b[0m\n",
      "      overridden virtual function is here\u001b[0m\n",
      "  virtual void reset_state() = 0;\n",
      "\u001b[0;1;32m               ^\n",
      "\u001b[0mIn file included from /Users/localharry/PolyNetwork_CppTools/Spike/Spike/Plasticity/WeightNormSTDPPlasticity.cpp:1:\n",
      "In file included from /Users/localharry/PolyNetwork_CppTools/Spike/Spike/Plasticity/WeightNormSTDPPlasticity.hpp:17:\n",
      "In file included from /Users/localharry/PolyNetwork_CppTools/Spike/Spike/Models/../Plasticity/STDPPlasticity.hpp:18:\n",
      "In file included from /Users/localharry/PolyNetwork_CppTools/Spike/Spike/Models/../Synapses/SpikingSynapses.hpp:7:\n",
      "In file included from /Users/localharry/PolyNetwork_CppTools/Spike/Spike/Models/SpikingModel.hpp:15:\n",
      "\u001b[1m/Users/localharry/PolyNetwork_CppTools/Spike/Spike/Models/../ActivityMonitor/ActivityMonitor.hpp:39:16: \u001b[0m\u001b[0;1;35mwarning: \u001b[0m\u001b[1m\n",
      "      'reset_state' overrides a member function but is not marked 'override'\n",
      "      [-Winconsistent-missing-override]\u001b[0m\n",
      "  virtual void reset_state() = 0;\n",
      "\u001b[0;1;32m               ^\n",
      "\u001b[0m\u001b[1m/Users/localharry/PolyNetwork_CppTools/Spike/Spike/Base.hpp:13:16: \u001b[0m\u001b[0;1;30mnote: \u001b[0m\n",
      "      overridden virtual function is here\u001b[0m\n",
      "  virtual void reset_state() = 0;\n",
      "\u001b[0;1;32m               ^\n",
      "\u001b[0mIn file included from /Users/localharry/PolyNetwork_CppTools/Spike/Spike/Plasticity/WeightNormSTDPPlasticity.cpp:1:\n",
      "In file included from /Users/localharry/PolyNetwork_CppTools/Spike/Spike/Plasticity/WeightNormSTDPPlasticity.hpp:17:\n",
      "\u001b[1m/Users/localharry/PolyNetwork_CppTools/Spike/Spike/Models/../Plasticity/STDPPlasticity.hpp:61:16: \u001b[0m\u001b[0;1;35mwarning: \u001b[0m\u001b[1m\n",
      "      'AddSynapseIndices' overrides a member function but is not marked\n",
      "      'override' [-Winconsistent-missing-override]\u001b[0m\n",
      "  virtual void AddSynapseIndices(int synapse_id_start, int num_synapses_to_add);\n",
      "\u001b[0;1;32m               ^\n",
      "\u001b[0m\u001b[1m/Users/localharry/PolyNetwork_CppTools/Spike/Spike/Plasticity/Plasticity.hpp:56:16: \u001b[0m\u001b[0;1;30mnote: \u001b[0m\n",
      "      overridden virtual function is here\u001b[0m\n",
      "  virtual void AddSynapseIndices(int synapse_id_start, int num_synapses_...\n",
      "\u001b[0;1;32m               ^\n",
      "\u001b[0m2 warnings generated.\n",
      "[ 96%] \u001b[32mBuilding CXX object Spike/Build/Spike/CMakeFiles/Spike.dir/Synapses/VoltageSpikingSynapses.cpp.o\u001b[0m\n",
      "2 warnings generated.\n",
      "2 warnings generated.\n",
      "In file included from /Users/localharry/PolyNetwork_CppTools/Spike/Spike/Synapses/ConductanceSpikingSynapses.cpp:1:\n",
      "In file included from /Users/localharry/PolyNetwork_CppTools/Spike/Spike/Synapses/ConductanceSpikingSynapses.hpp:4:\n",
      "In file included from /Users/localharry/PolyNetwork_CppTools/Spike/Spike/Models/../Synapses/SpikingSynapses.hpp:7:\n",
      "In file included from /Users/localharry/PolyNetwork_CppTools/Spike/Spike/Models/SpikingModel.hpp:10:\n",
      "\u001b[1m/Users/localharry/PolyNetwork_CppTools/Spike/Spike/Models/../Plasticity/STDPPlasticity.hpp:61:16: \u001b[0m\u001b[0;1;35mwarning: \u001b[0m\u001b[1m\n",
      "      'AddSynapseIndices' overrides a member function but is not marked\n",
      "      'override' [-Winconsistent-missing-override]\u001b[0m\n",
      "  virtual void AddSynapseIndices(int synapse_id_start, int num_synapses_to_add);\n",
      "\u001b[0;1;32m               ^\n",
      "\u001b[0m\u001b[1m/Users/localharry/PolyNetwork_CppTools/Spike/Spike/Plasticity/Plasticity.hpp:56:16: \u001b[0m\u001b[0;1;30mnote: \u001b[0m\n",
      "      overridden virtual function is here\u001b[0m\n",
      "  virtual void AddSynapseIndices(int synapse_id_start, int num_synapses_...\n",
      "\u001b[0;1;32m               ^\n",
      "\u001b[0mIn file included from /Users/localharry/PolyNetwork_CppTools/Spike/Spike/Synapses/ConductanceSpikingSynapses.cpp:1:\n",
      "In file included from /Users/localharry/PolyNetwork_CppTools/Spike/Spike/Synapses/ConductanceSpikingSynapses.hpp:4:\n",
      "In file included from /Users/localharry/PolyNetwork_CppTools/Spike/Spike/Models/../Synapses/SpikingSynapses.hpp:7:\n",
      "In file included from /Users/localharry/PolyNetwork_CppTools/Spike/Spike/Models/SpikingModel.hpp:15:\n",
      "\u001b[1m/Users/localharry/PolyNetwork_CppTools/Spike/Spike/Models/../ActivityMonitor/ActivityMonitor.hpp:39:16: \u001b[0m\u001b[0;1;35mwarning: \u001b[0m\u001b[1m\n",
      "      'reset_state' overrides a member function but is not marked 'override'\n",
      "      [-Winconsistent-missing-override]\u001b[0m\n",
      "  virtual void reset_state() = 0;\n",
      "\u001b[0;1;32m               ^\n",
      "\u001b[0m\u001b[1m/Users/localharry/PolyNetwork_CppTools/Spike/Spike/Base.hpp:13:16: \u001b[0m\u001b[0;1;30mnote: \u001b[0m\n",
      "      overridden virtual function is here\u001b[0m\n",
      "  virtual void reset_state() = 0;\n",
      "\u001b[0;1;32m               ^\n",
      "\u001b[0mIn file included from /Users/localharry/PolyNetwork_CppTools/Spike/Spike/Synapses/CurrentSpikingSynapses.cpp:1:\n",
      "In file included from /Users/localharry/PolyNetwork_CppTools/Spike/Spike/Synapses/CurrentSpikingSynapses.hpp:4:\n",
      "In file included from /Users/localharry/PolyNetwork_CppTools/Spike/Spike/Models/../Synapses/SpikingSynapses.hpp:7:\n",
      "In file included from /Users/localharry/PolyNetwork_CppTools/Spike/Spike/Models/SpikingModel.hpp:10:\n",
      "\u001b[1m/Users/localharry/PolyNetwork_CppTools/Spike/Spike/Models/../Plasticity/STDPPlasticity.hpp:61:16: \u001b[0m\u001b[0;1;35mwarning: \u001b[0m\u001b[1m\n",
      "      'AddSynapseIndices' overrides a member function but is not marked\n",
      "      'override' [-Winconsistent-missing-override]\u001b[0m\n",
      "  virtual void AddSynapseIndices(int synapse_id_start, int num_synapses_to_add);\n",
      "\u001b[0;1;32m               ^\n",
      "\u001b[0m\u001b[1m/Users/localharry/PolyNetwork_CppTools/Spike/Spike/Plasticity/Plasticity.hpp:56:16: \u001b[0m\u001b[0;1;30mnote: \u001b[0m\n",
      "      overridden virtual function is here\u001b[0m\n",
      "  virtual void AddSynapseIndices(int synapse_id_start, int num_synapses_...\n",
      "\u001b[0;1;32m               ^\n",
      "\u001b[0mIn file included from /Users/localharry/PolyNetwork_CppTools/Spike/Spike/Synapses/CurrentSpikingSynapses.cpp:1:\n",
      "In file included from /Users/localharry/PolyNetwork_CppTools/Spike/Spike/Synapses/CurrentSpikingSynapses.hpp:4:\n",
      "In file included from /Users/localharry/PolyNetwork_CppTools/Spike/Spike/Models/../Synapses/SpikingSynapses.hpp:7:\n",
      "In file included from /Users/localharry/PolyNetwork_CppTools/Spike/Spike/Models/SpikingModel.hpp:15:\n",
      "\u001b[1m/Users/localharry/PolyNetwork_CppTools/Spike/Spike/Models/../ActivityMonitor/ActivityMonitor.hpp:39:16: \u001b[0m\u001b[0;1;35mwarning: \u001b[0m\u001b[1m\n",
      "      'reset_state' overrides a member function but is not marked 'override'\n",
      "      [-Winconsistent-missing-override]\u001b[0m\n",
      "  virtual void reset_state() = 0;\n",
      "\u001b[0;1;32m               ^\n",
      "\u001b[0m\u001b[1m/Users/localharry/PolyNetwork_CppTools/Spike/Spike/Base.hpp:13:16: \u001b[0m\u001b[0;1;30mnote: \u001b[0m\n",
      "      overridden virtual function is here\u001b[0m\n",
      "  virtual void reset_state() = 0;\n",
      "\u001b[0;1;32m               ^\n",
      "\u001b[0mIn file included from /Users/localharry/PolyNetwork_CppTools/Spike/Spike/Synapses/SpikingSynapses.cpp:1:\n",
      "In file included from /Users/localharry/PolyNetwork_CppTools/Spike/Spike/Models/../Synapses/SpikingSynapses.hpp:7:\n",
      "In file included from /Users/localharry/PolyNetwork_CppTools/Spike/Spike/Models/SpikingModel.hpp:10:\n",
      "\u001b[1m/Users/localharry/PolyNetwork_CppTools/Spike/Spike/Models/../Plasticity/STDPPlasticity.hpp:61:16: \u001b[0m\u001b[0;1;35mwarning: \u001b[0m\u001b[1m\n",
      "      'AddSynapseIndices' overrides a member function but is not marked\n",
      "      'override' [-Winconsistent-missing-override]\u001b[0m\n",
      "  virtual void AddSynapseIndices(int synapse_id_start, int num_synapses_to_add);\n",
      "\u001b[0;1;32m               ^\n",
      "\u001b[0m\u001b[1m/Users/localharry/PolyNetwork_CppTools/Spike/Spike/Plasticity/Plasticity.hpp:56:16: \u001b[0m\u001b[0;1;30mnote: \u001b[0m\n",
      "      overridden virtual function is here\u001b[0m\n",
      "  virtual void AddSynapseIndices(int synapse_id_start, int num_synapses_...\n",
      "\u001b[0;1;32m               ^\n",
      "\u001b[0mIn file included from /Users/localharry/PolyNetwork_CppTools/Spike/Spike/Synapses/SpikingSynapses.cpp:1:\n",
      "In file included from /Users/localharry/PolyNetwork_CppTools/Spike/Spike/Models/../Synapses/SpikingSynapses.hpp:7:\n",
      "In file included from /Users/localharry/PolyNetwork_CppTools/Spike/Spike/Models/SpikingModel.hpp:15:\n",
      "\u001b[1m/Users/localharry/PolyNetwork_CppTools/Spike/Spike/Models/../ActivityMonitor/ActivityMonitor.hpp:39:16: \u001b[0m\u001b[0;1;35mwarning: \u001b[0m\u001b[1m\n",
      "      'reset_state' overrides a member function but is not marked 'override'\n",
      "      [-Winconsistent-missing-override]\u001b[0m\n",
      "  virtual void reset_state() = 0;\n",
      "\u001b[0;1;32m               ^\n",
      "\u001b[0m\u001b[1m/Users/localharry/PolyNetwork_CppTools/Spike/Spike/Base.hpp:13:16: \u001b[0m\u001b[0;1;30mnote: \u001b[0m\n",
      "      overridden virtual function is here\u001b[0m\n",
      "  virtual void reset_state() = 0;\n",
      "\u001b[0;1;32m               ^\n"
     ]
    },
    {
     "name": "stdout",
     "output_type": "stream",
     "text": [
      "\u001b[0m2 warnings generated.\n",
      "In file included from /Users/localharry/PolyNetwork_CppTools/Spike/Spike/Synapses/VoltageSpikingSynapses.cpp:1:\n",
      "In file included from /Users/localharry/PolyNetwork_CppTools/Spike/Spike/Synapses/VoltageSpikingSynapses.hpp:4:\n",
      "In file included from /Users/localharry/PolyNetwork_CppTools/Spike/Spike/Models/../Synapses/SpikingSynapses.hpp:7:\n",
      "In file included from /Users/localharry/PolyNetwork_CppTools/Spike/Spike/Models/SpikingModel.hpp:10:\n",
      "\u001b[1m/Users/localharry/PolyNetwork_CppTools/Spike/Spike/Models/../Plasticity/STDPPlasticity.hpp:61:16: \u001b[0m\u001b[0;1;35mwarning: \u001b[0m\u001b[1m\n",
      "      'AddSynapseIndices' overrides a member function but is not marked\n",
      "      'override' [-Winconsistent-missing-override]\u001b[0m\n",
      "  virtual void AddSynapseIndices(int synapse_id_start, int num_synapses_to_add);\n",
      "\u001b[0;1;32m               ^\n",
      "\u001b[0m\u001b[1m/Users/localharry/PolyNetwork_CppTools/Spike/Spike/Plasticity/Plasticity.hpp:56:16: \u001b[0m\u001b[0;1;30mnote: \u001b[0m\n",
      "      overridden virtual function is here\u001b[0m\n",
      "  virtual void AddSynapseIndices(int synapse_id_start, int num_synapses_...\n",
      "\u001b[0;1;32m               ^\n",
      "\u001b[0mIn file included from /Users/localharry/PolyNetwork_CppTools/Spike/Spike/Synapses/VoltageSpikingSynapses.cpp:1:\n",
      "In file included from /Users/localharry/PolyNetwork_CppTools/Spike/Spike/Synapses/VoltageSpikingSynapses.hpp:4:\n",
      "In file included from /Users/localharry/PolyNetwork_CppTools/Spike/Spike/Models/../Synapses/SpikingSynapses.hpp:7:\n",
      "In file included from /Users/localharry/PolyNetwork_CppTools/Spike/Spike/Models/SpikingModel.hpp:15:\n",
      "\u001b[1m/Users/localharry/PolyNetwork_CppTools/Spike/Spike/Models/../ActivityMonitor/ActivityMonitor.hpp:39:16: \u001b[0m\u001b[0;1;35mwarning: \u001b[0m\u001b[1m\n",
      "      'reset_state' overrides a member function but is not marked 'override'\n",
      "      [-Winconsistent-missing-override]\u001b[0m\n",
      "  virtual void reset_state() = 0;\n",
      "\u001b[0;1;32m               ^\n",
      "\u001b[0m\u001b[1m/Users/localharry/PolyNetwork_CppTools/Spike/Spike/Base.hpp:13:16: \u001b[0m\u001b[0;1;30mnote: \u001b[0m\n",
      "      overridden virtual function is here\u001b[0m\n",
      "  virtual void reset_state() = 0;\n",
      "\u001b[0;1;32m               ^\n",
      "\u001b[0m2 warnings generated.\n",
      "2 warnings generated.\n",
      "2 warnings generated.\n",
      "[ 97%] \u001b[32m\u001b[1mLinking CXX shared library libSpike.dylib\u001b[0m\n",
      "ld: warning: option -noall_load is obsolete and being ignored\n",
      "ld: warning: option -noall_load is obsolete and being ignored\n",
      "[ 97%] Built target Spike\n",
      "\u001b[35m\u001b[1mScanning dependencies of target LeadholmBinding\u001b[0m\n",
      "[ 98%] \u001b[32mBuilding CXX object CMakeFiles/LeadholmBinding.dir/LeadholmBinding.cpp.o\u001b[0m\n",
      "[100%] \u001b[32m\u001b[1mLinking CXX executable LeadholmBinding\u001b[0m\n",
      "[100%] Built target LeadholmBinding\n"
     ]
    }
   ],
   "source": [
    "!make -j8 #j8 specifies that 8 jobs should be simultaneously execuded by the makefile"
   ]
  },
  {
   "cell_type": "code",
   "execution_count": 33,
   "metadata": {
    "colab": {},
    "colab_type": "code",
    "id": "L7JQZwSM13XL"
   },
   "outputs": [],
   "source": [
    "import numpy as np\n",
    "import pandas as pd #Pandas has multiple functions, including providing 'data_frame' objects that can be used for visualizing and analyzing data\n",
    "from matplotlib import pyplot as plt"
   ]
  },
  {
   "cell_type": "markdown",
   "metadata": {
    "colab_type": "text",
    "id": "od19zi8jcbqN"
   },
   "source": [
    "## Import Stimuli & Synaptic Data"
   ]
  },
  {
   "cell_type": "markdown",
   "metadata": {
    "colab_type": "text",
    "id": "uDslXeSp493q"
   },
   "source": [
    "Clean up any old connectivity data files, as well as any previous simulation output files."
   ]
  },
  {
   "cell_type": "code",
   "execution_count": 34,
   "metadata": {
    "colab": {},
    "colab_type": "code",
    "id": "lJqxCwTtePjS"
   },
   "outputs": [
    {
     "name": "stdout",
     "output_type": "stream",
     "text": [
      "rm: *.syn: No such file or directory\n",
      "rm: *.bin: No such file or directory\n",
      "rm: *SpikeTimes.txt: No such file or directory\n",
      "rm: *SpikeIDs.txt: No such file or directory\n"
     ]
    }
   ],
   "source": [
    "!rm *.syn\n",
    "!rm *.bin\n",
    "!rm *SpikeTimes.txt\n",
    "!rm *SpikeIDs.txt"
   ]
  },
  {
   "cell_type": "code",
   "execution_count": 35,
   "metadata": {
    "colab": {
     "base_uri": "https://localhost:8080/",
     "height": 235
    },
    "colab_type": "code",
    "id": "eCgv0sJbeSN8",
    "outputId": "4cbae280-dd6e-4421-d66e-5bb8cdf0427d"
   },
   "outputs": [
    {
     "name": "stdout",
     "output_type": "stream",
     "text": [
      "\u001b[34mBuild\u001b[m\u001b[m/                        Makefile\r\n",
      "CMakeCache.txt                README.md\r\n",
      "\u001b[34mCMakeFiles\u001b[m\u001b[m/                   \u001b[34mSpike\u001b[m\u001b[m/\r\n",
      "CMakeLists.txt                SpikeJupyter_Leadholm.ipynb\r\n",
      "LICENSE                       UtilityFunctionsLeadholm.hpp\r\n",
      "\u001b[31mLeadholmBinding\u001b[m\u001b[m*              cmake_install.cmake\r\n",
      "LeadholmBinding.cpp\r\n"
     ]
    }
   ],
   "source": [
    "ls"
   ]
  },
  {
   "cell_type": "markdown",
   "metadata": {
    "colab_type": "text",
    "id": "-osBJxUB-Vzq"
   },
   "source": [
    "Import any additional files needed, such as connectivity data"
   ]
  },
  {
   "cell_type": "code",
   "execution_count": 36,
   "metadata": {
    "colab": {},
    "colab_type": "code",
    "id": "LDKZLekKHyzk"
   },
   "outputs": [
    {
     "name": "stdout",
     "output_type": "stream",
     "text": [
      "--2019-04-25 14:58:28--  https://www.dropbox.com/s/ds0u3egvmcd9mfz/setup_data.zip\n",
      "Resolving www.dropbox.com (www.dropbox.com)... 162.125.64.1, 2620:100:6020:1::a27d:4001\n",
      "Connecting to www.dropbox.com (www.dropbox.com)|162.125.64.1|:443... connected.\n",
      "HTTP request sent, awaiting response... 301 Moved Permanently\n",
      "Location: /s/raw/ds0u3egvmcd9mfz/setup_data.zip [following]\n",
      "--2019-04-25 14:58:28--  https://www.dropbox.com/s/raw/ds0u3egvmcd9mfz/setup_data.zip\n",
      "Reusing existing connection to www.dropbox.com:443.\n",
      "HTTP request sent, awaiting response... 302 Found\n",
      "Location: https://uce5c9ce967ff51d1ff1e24c9864.dl.dropboxusercontent.com/cd/0/inline/AftVhUdO1xks3iOXO1BYEV1y3xMOJcGd3FapKmd6K0H_RvKmNyEjR71FA_dtDd3UxHW-UJ7QRYz_03-Cavir7IMav6ScwMJUPXCI2I30pPO7dw/file# [following]\n",
      "--2019-04-25 14:58:29--  https://uce5c9ce967ff51d1ff1e24c9864.dl.dropboxusercontent.com/cd/0/inline/AftVhUdO1xks3iOXO1BYEV1y3xMOJcGd3FapKmd6K0H_RvKmNyEjR71FA_dtDd3UxHW-UJ7QRYz_03-Cavir7IMav6ScwMJUPXCI2I30pPO7dw/file\n",
      "Resolving uce5c9ce967ff51d1ff1e24c9864.dl.dropboxusercontent.com (uce5c9ce967ff51d1ff1e24c9864.dl.dropboxusercontent.com)... 162.125.64.6, 2620:100:6020:6::a27d:4006\n",
      "Connecting to uce5c9ce967ff51d1ff1e24c9864.dl.dropboxusercontent.com (uce5c9ce967ff51d1ff1e24c9864.dl.dropboxusercontent.com)|162.125.64.6|:443... connected.\n",
      "HTTP request sent, awaiting response... 302 FOUND\n",
      "Location: /cd/0/inline2/AfsyjYpsre4MoXwIxMIGqyfT5T1LSUDXC8hsrilheXgVdVVZ0-4NXzoaR6xK0jwiO0MPywZqKzDXjHaD3fJqmuWhlJXzU7_5tHecgHn5X3mnhVMs8q6_x_iQPEMv0yO6ND3Knp25u0lIp8058VAvTN8j57fdsl3ZsxjEd-rwCJP56r5h0N8kfwpzxFMBtYhpSnS77MO9p2numSP2pKdfFDrjWAdvvgeVRDfM1_sPeaAhk2XhQqwSrbTu3bMO7QoDdh25AfU7osDKnBGEmNFfP-AMBJ7MffXY1qvsPZRHSwuBZ552Lk0d6cQjwpbwNUUcKTJlemqlzzMvQdDjreOkrSG1/file [following]\n",
      "--2019-04-25 14:58:30--  https://uce5c9ce967ff51d1ff1e24c9864.dl.dropboxusercontent.com/cd/0/inline2/AfsyjYpsre4MoXwIxMIGqyfT5T1LSUDXC8hsrilheXgVdVVZ0-4NXzoaR6xK0jwiO0MPywZqKzDXjHaD3fJqmuWhlJXzU7_5tHecgHn5X3mnhVMs8q6_x_iQPEMv0yO6ND3Knp25u0lIp8058VAvTN8j57fdsl3ZsxjEd-rwCJP56r5h0N8kfwpzxFMBtYhpSnS77MO9p2numSP2pKdfFDrjWAdvvgeVRDfM1_sPeaAhk2XhQqwSrbTu3bMO7QoDdh25AfU7osDKnBGEmNFfP-AMBJ7MffXY1qvsPZRHSwuBZ552Lk0d6cQjwpbwNUUcKTJlemqlzzMvQdDjreOkrSG1/file\n",
      "Reusing existing connection to uce5c9ce967ff51d1ff1e24c9864.dl.dropboxusercontent.com:443.\n",
      "HTTP request sent, awaiting response... 200 OK\n",
      "Length: 28993 (28K) [application/zip]\n",
      "Saving to: ‘setup_data.zip’\n",
      "\n",
      "setup_data.zip      100%[===================>]  28.31K  --.-KB/s    in 0s      \n",
      "\n",
      "2019-04-25 14:58:30 (132 MB/s) - ‘setup_data.zip’ saved [28993/28993]\n",
      "\n"
     ]
    }
   ],
   "source": [
    "!wget https://www.dropbox.com/s/ds0u3egvmcd9mfz/setup_data.zip"
   ]
  },
  {
   "cell_type": "code",
   "execution_count": 37,
   "metadata": {},
   "outputs": [
    {
     "name": "stdout",
     "output_type": "stream",
     "text": [
      "Archive:  setup_data.zip\r\n",
      "  inflating: Connectivity_Data_ff_200_corrupt.syn  \r\n",
      "  inflating: Connectivity_Data_ff_200_clean.syn  \r\n"
     ]
    }
   ],
   "source": [
    "!unzip setup_data.zip"
   ]
  },
  {
   "cell_type": "code",
   "execution_count": 38,
   "metadata": {},
   "outputs": [
    {
     "name": "stdout",
     "output_type": "stream",
     "text": [
      "\u001b[34mBuild\u001b[m\u001b[m/                                LeadholmBinding.cpp\r\n",
      "CMakeCache.txt                        Makefile\r\n",
      "\u001b[34mCMakeFiles\u001b[m\u001b[m/                           README.md\r\n",
      "CMakeLists.txt                        \u001b[34mSpike\u001b[m\u001b[m/\r\n",
      "Connectivity_Data_ff_200_clean.syn    SpikeJupyter_Leadholm.ipynb\r\n",
      "Connectivity_Data_ff_200_corrupt.syn  UtilityFunctionsLeadholm.hpp\r\n",
      "LICENSE                               cmake_install.cmake\r\n",
      "\u001b[31mLeadholmBinding\u001b[m\u001b[m*                      setup_data.zip\r\n"
     ]
    }
   ],
   "source": [
    "ls"
   ]
  },
  {
   "cell_type": "markdown",
   "metadata": {
    "colab_type": "text",
    "id": "lw6tUAf48-53"
   },
   "source": [
    "# Network Creation and Execution"
   ]
  },
  {
   "cell_type": "markdown",
   "metadata": {
    "colab_type": "text",
    "id": "1mCv2w8X6SlK"
   },
   "source": [
    "## Edit and Compile LeadholmBinding.cpp"
   ]
  },
  {
   "cell_type": "markdown",
   "metadata": {
    "colab_type": "text",
    "id": "JtXBL2B9o_Wk"
   },
   "source": [
    "Over-write the LeadholmBinding.cpp file with the desired code. All code must be inserted below the ''%%writefile Sandbox.cpp' line"
   ]
  },
  {
   "cell_type": "code",
   "execution_count": 53,
   "metadata": {
    "colab": {
     "base_uri": "https://localhost:8080/",
     "height": 34
    },
    "colab_type": "code",
    "id": "KUIvoIYrZWP5",
    "outputId": "ea971fd5-1cdd-4731-9ae2-c4b05df5ee21"
   },
   "outputs": [
    {
     "name": "stdout",
     "output_type": "stream",
     "text": [
      "Overwriting LeadholmBinding.cpp\n"
     ]
    }
   ],
   "source": [
    "%%writefile LeadholmBinding.cpp\n",
    "\n",
    "\n",
    "\n",
    "#include \"Spike/Spike.hpp\"\n",
    "#include \"UtilityFunctionsLeadholm.hpp\"\n",
    "#include <array>\n",
    "#include <iostream>\n",
    "#include <cstring>\n",
    "#include <string>\n",
    "\n",
    "\n",
    "// Network with 5x5 neurons in each layer\n",
    "// If unable to get interesting activity, then can make the most trivial case of literally two \n",
    "// parallel networks with no interactivity (as a proxy for winner-take-all connectivity)\n",
    "// Inhibitory population is the same size as the excitatory population\n",
    "// Start actually with Gaussian connectivity and SOMO like architecture to see if possible\n",
    "// Can later use all-to-all connectivity if necessary-\n",
    "\n",
    "\n",
    "// Things to add:\n",
    "// Background neurons inputting to all layers to prevent dead neurons following plasticity changes\n",
    "// *** need to check in the future this isn't cause some odd correlated activity by each \n",
    "// background neuron simultaneously activating neurons in multiple layers etc. ***\n",
    "\n",
    "// The function which will autorun when the executable is created\n",
    "int main (int argc, char *argv[]){\n",
    "\n",
    "  /*\n",
    "      CHOOSE THE COMPONENTS OF YOUR SIMULATION\n",
    "  */\n",
    "\n",
    "  // Create an instance of the Model\n",
    "  SpikingModel* BinaryModel = new SpikingModel();\n",
    "  /* Explanation of above notation:\n",
    "    BinaryModel is intiliazed as a pointer to an object of class SpikingModel\n",
    "    The 'new' operator is essentially the C++ equivalent of 'malloc' allocates memory for the un-named object, and returns the pointer to this object,\n",
    "    or if it is an array, the first element. The memory allocation performed by new is with 'dynamic storage duration', such that the lifetime of the \n",
    "    object isn't limited to the scope in which it was created. This is also known as allocating memory to the 'heap' (as opposed to the stack)\n",
    "    and as such memory *de*-allocation is critical in order to prevent a memory leak/'garbage' building up\n",
    "  */\n",
    "\n",
    "  //Simulation parameters; these can be relatively easily adjusted to observe the affect on the network\n",
    "  int training_epochs = 5; // Number of epochs to have STDP active\n",
    "  int display_epochs = 5; // Number of epochs where the each stimulus is presented with STDP inactive\n",
    "  float exc_inh_weight_ratio = 6.0; //parameter that determines how much stronger inhibitory synapses are than excitatory synapses\n",
    "  int background_firing_rate = 20; //approximate firing rate of noisy neurons feeding into all layers, and preventing dead neurons\n",
    "  \n",
    "  // Initialize core model parameters\n",
    "  int x_dim = 5;\n",
    "  int y_dim = 5;\n",
    "  int num_images = 2; \n",
    "  int input_firing_rate = 20; //approximate firing rate of input stimuli; note multiplier used later to generate actual stimuli\n",
    "  float competitive_connection_prob = 0.75; // Probability parameter that controls how the two competing halves of the network are connected\n",
    "  float timestep = 0.0001;  // In seconds\n",
    "  float lower_weight_limit = 0.01;\n",
    "  float upper_weight_limit = 0.1;\n",
    "  BinaryModel->SetTimestep(timestep);\n",
    "\n",
    "  // Choose an input neuron type\n",
    "  PatternedPoissonInputSpikingNeurons* patterned_poisson_input_neurons = new PatternedPoissonInputSpikingNeurons();\n",
    "  // Choose the neuron type\n",
    "  LIFSpikingNeurons* lif_spiking_neurons = new LIFSpikingNeurons();\n",
    "  // Choose the synapse type\n",
    "  ConductanceSpikingSynapses * conductance_spiking_synapses = new ConductanceSpikingSynapses();\n",
    "\n",
    "  // Allocate your chosen components to the simulator\n",
    "  BinaryModel->input_spiking_neurons = patterned_poisson_input_neurons;\n",
    "  BinaryModel->spiking_neurons = lif_spiking_neurons;\n",
    "  BinaryModel->spiking_synapses = conductance_spiking_synapses;\n",
    "\n",
    "  // *** Allocate chosen plasticity rule\n",
    "  custom_stdp_plasticity_parameters_struct * Excit_STDP_PARAMS = new custom_stdp_plasticity_parameters_struct;\n",
    "  Excit_STDP_PARAMS->a_plus = (upper_weight_limit + lower_weight_limit)/2; //Set to the mean of the excitatory weight distribution\n",
    "  Excit_STDP_PARAMS->a_minus = 1.0f;\n",
    "  Excit_STDP_PARAMS->tau_plus = 0.01f;\n",
    "  Excit_STDP_PARAMS->tau_minus = 0.01f;\n",
    "  Excit_STDP_PARAMS->learning_rate = 0.001f;\n",
    "  Excit_STDP_PARAMS->a_star = 0; //Excit_STDP_PARAMS->a_plus * Excit_STDP_PARAMS->tau_minus * Inhib_STDP_PARAMS->targetrate;\n",
    "\n",
    "  CustomSTDPPlasticity * excitatory_stdp = new CustomSTDPPlasticity((SpikingSynapses *) conductance_spiking_synapses, (SpikingNeurons *) lif_spiking_neurons, (SpikingNeurons *) patterned_poisson_input_neurons, (stdp_plasticity_parameters_struct *) Excit_STDP_PARAMS);  \n",
    "  \n",
    "  BinaryModel->AddPlasticityRule(excitatory_stdp);\n",
    "\n",
    "  /*\n",
    "      ADD ANY ACTIVITY MONITORS\n",
    "  */\n",
    "  SpikingActivityMonitor* spike_monitor_main = new SpikingActivityMonitor(lif_spiking_neurons);\n",
    "  BinaryModel->AddActivityMonitor(spike_monitor_main);\n",
    "  // Add activity monitor for poisson input neurons\n",
    "  SpikingActivityMonitor* spike_monitor_input = new SpikingActivityMonitor(patterned_poisson_input_neurons);\n",
    "  BinaryModel->AddActivityMonitor(spike_monitor_input);\n",
    "\n",
    "\n",
    "  // SETTING UP INPUT NEURONS\n",
    "\n",
    "  std::cout << \"\\n\\n.......\\nCreating network neuron groups...\\n.......\\n\\n\";\n",
    "  \n",
    "  // Creating an input neuron parameter structure\n",
    "  // Initialize a 2D vector to store the neuron group IDs of each excitatory layer, including the input as the 0th layer\n",
    "  // Note however this vector will not include the background activity neuron group\n",
    "  std::vector<std::vector<int>> neuron_params_vec;\n",
    "\n",
    "  // Note the first dimension corresponds to the layer, indexed from 0, corresponding to the input neurons\n",
    "  // The second dimension corresponds to the 'left' or 'right' side of the network, indexed by 0 and 1 respectively\n",
    "\n",
    "  patterned_poisson_input_spiking_neuron_parameters_struct* neuron_params_0_0 = new patterned_poisson_input_spiking_neuron_parameters_struct();\n",
    "  neuron_params_0_0->group_shape[0] = x_dim;    // x-dimension of the input neuron layer\n",
    "  neuron_params_0_0->group_shape[1] = y_dim;   // y-dimension of the input neuron layer\n",
    "  neuron_params_vec.push_back(std::vector<int>());\n",
    "  neuron_params_vec[0].push_back(BinaryModel->AddInputNeuronGroup(neuron_params_0_0));\n",
    "\n",
    "  patterned_poisson_input_spiking_neuron_parameters_struct* neuron_params_0_1 = new patterned_poisson_input_spiking_neuron_parameters_struct();\n",
    "  neuron_params_0_1->group_shape[0] = x_dim;    // x-dimension of the input neuron layer\n",
    "  neuron_params_0_1->group_shape[1] = y_dim;   // y-dimension of the input neuron layer\n",
    "  neuron_params_vec[0].push_back(BinaryModel->AddInputNeuronGroup(neuron_params_0_1));\n",
    "\n",
    "  // Set-up background noise neurons; these ensure no 'dead' neurons following plasticity by guarenteeing a random input to every neuron\n",
    "  patterned_poisson_input_spiking_neuron_parameters_struct* back_input_neuron_params = new patterned_poisson_input_spiking_neuron_parameters_struct();\n",
    "  back_input_neuron_params->group_shape[0] = x_dim;    // x-dimension of the input neuron layer\n",
    "  back_input_neuron_params->group_shape[1] = y_dim;   // y-dimension of the input neuron layer\n",
    "  int back_input_layer_ID = BinaryModel->AddInputNeuronGroup(back_input_neuron_params);\n",
    "\n",
    "  int total_number_of_input_neurons = (neuron_params_0_0->group_shape[0]*neuron_params_0_0->group_shape[1] \n",
    "    + neuron_params_0_1->group_shape[0]*neuron_params_0_1->group_shape[1] \n",
    "    + back_input_neuron_params->group_shape[0]*back_input_neuron_params->group_shape[1]);\n",
    "\n",
    "  // SETTING UP NEURON GROUPS\n",
    "  lif_spiking_neuron_parameters_struct * excitatory_population_params = new lif_spiking_neuron_parameters_struct();\n",
    "  excitatory_population_params->group_shape[0] = x_dim;\n",
    "  excitatory_population_params->group_shape[1] = y_dim;\n",
    "  excitatory_population_params->resting_potential_v0 = -0.06f;\n",
    "  excitatory_population_params->absolute_refractory_period = 0.002f;\n",
    "  excitatory_population_params->threshold_for_action_potential_spike = -0.05f;\n",
    "  excitatory_population_params->somatic_capacitance_Cm = 200.0*pow(10, -12);\n",
    "  excitatory_population_params->somatic_leakage_conductance_g0 = 10.0*pow(10, -9);\n",
    "\n",
    "  std::cout << \"New layer ID is \" << neuron_params_vec[0][0] << \"\\n\";\n",
    "  std::cout << \"New layer ID is \" << neuron_params_vec[0][1] << \"\\n\";\n",
    "\n",
    "  // Iteratively create all the additional layers of excitatory neurons, storing their IDs in a 2D vector-of-a-vector\n",
    "  // Note the input neurons are the 0th layer, specified earlier\n",
    "  for (int ii = 1; ii < 2; ii++){\n",
    "    // As neuron_params_vec is a vector-of-a-vector without a defined size, need to add an element to the base vector\n",
    "    neuron_params_vec.push_back(std::vector<int>());\n",
    "    for (int jj = 0; jj < 1; jj++){ // Iterate through the left and right hand sides of each layer\n",
    "      //Add an element to the inner vector, and assign the desired value\n",
    "      neuron_params_vec[ii].push_back(BinaryModel->AddNeuronGroup(excitatory_population_params));\n",
    "      std::cout << \"New layer ID is \" << neuron_params_vec[ii][jj] << \"\\n\";\n",
    "    }\n",
    "  }\n",
    "\n",
    "\n",
    "  // SETTING UP SYNAPSES\n",
    "\n",
    "  std::cout << \"\\n\\n.......\\nBuilding feed-forward connectivity...\\n.......\\n\\n\";\n",
    "\n",
    "  // FEED-FORWARD CONNECTIONS\n",
    "  // Create vector-of-a-vector-of-a-vector to store the synapse structure for feed-forward connections\n",
    "  // Note the type is actually specified as the synapses parameter structure during the vector initialization\n",
    "  // The first dimension corresponds to the layer, the second to the source layer side (left or right), and the receiving layer side (left or right)\n",
    "  std::vector<std::vector<std::vector<conductance_spiking_synapse_parameters_struct*>>> ff_synapse_params_vec;\n",
    "\n",
    "  //Create the feed-forward synapses for from the input neurons to the first layer, for the left hand side source, with left hand projections\n",
    "  ff_synapse_params_vec.push_back(std::vector<std::vector<conductance_spiking_synapse_parameters_struct*>>());\n",
    "  ff_synapse_params_vec[0].push_back(std::vector<conductance_spiking_synapse_parameters_struct*>());\n",
    "  ff_synapse_params_vec[0][0].push_back(new conductance_spiking_synapse_parameters_struct());\n",
    "  ff_synapse_params_vec[0][0][0]->weight_scaling_constant = excitatory_population_params->somatic_leakage_conductance_g0;\n",
    "  ff_synapse_params_vec[0][0][0]->delay_range[0] = 10.0*timestep;\n",
    "  ff_synapse_params_vec[0][0][0]->delay_range[1] = 10.0*timestep; //NB that as the delays will be set later from loaded files, these values are arbitrary, albeit required by Spike\n",
    "  ff_synapse_params_vec[0][0][0]->decay_term_tau_g = 0.0017f;  // Seconds (Conductance Parameter)\n",
    "  ff_synapse_params_vec[0][0][0]->reversal_potential_Vhat = 0.0*pow(10.0, -3);\n",
    "  ff_synapse_params_vec[0][0][0]->connectivity_type = CONNECTIVITY_TYPE_PAIRWISE;\n",
    "  ff_synapse_params_vec[0][0][0]->plasticity_vec.push_back(excitatory_stdp);\n",
    "\n",
    "\n",
    "  //Create the above two equivalents, but for the right hand side of the source\n",
    "  ff_synapse_params_vec[0].push_back(std::vector<conductance_spiking_synapse_parameters_struct*>());\n",
    "  ff_synapse_params_vec[0][1].push_back(new conductance_spiking_synapse_parameters_struct());\n",
    "  std::memcpy(ff_synapse_params_vec[0][1][0], ff_synapse_params_vec[0][0][0], sizeof(* ff_synapse_params_vec[0][0][0])); //Left hand projections\n",
    "\n",
    "  connect_from_python(neuron_params_vec[0][0],\n",
    "          neuron_params_vec[1][0],\n",
    "          ff_synapse_params_vec[0][0][0],\n",
    "          (\"Connectivity_Data_ff_200_clean.syn\"),\n",
    "          BinaryModel);\n",
    "\n",
    "  // connect_from_python(neuron_params_vec[0][1],\n",
    "  //         neuron_params_vec[1][0],\n",
    "  //         ff_synapse_params_vec[0][1][0],\n",
    "  //         (\"Connectivity_Data_ff_200_clean.syn\"),\n",
    "  //         BinaryModel);\n",
    "\n",
    "  connect_from_python(neuron_params_vec[0][1],\n",
    "          neuron_params_vec[1][0],\n",
    "          ff_synapse_params_vec[0][1][0],\n",
    "          (\"Connectivity_Data_ff_200_corrupt.syn\"),\n",
    "          BinaryModel);\n",
    "\n",
    "\n",
    "  // //Check all connectivity data has been assigned to parameter structures as expected by printing to screen\n",
    "  // for (int ii = 0; ii < 4; ii++){ // Iterate through the layers\n",
    "  //   for (int jj = 0; jj < 2; jj++){ // Iterate through the left and right hand sides of each layer sending the connections\n",
    "  //     for (int kk = 0; kk < 2; kk++){ // Iterate through the left and right hand sides of each layer sending the connections\n",
    "  //         for (int ll = 100; ll < 105; ll++){\n",
    "  //           printf(\"Pre ID %d, post ID %d, weight %f, delay %f\\n\", ff_synapse_params_vec[ii][jj][kk]->pairwise_connect_presynaptic[ll],\n",
    "  //             ff_synapse_params_vec[ii][jj][kk]->pairwise_connect_postsynaptic[ll],\n",
    "  //             ff_synapse_params_vec[ii][jj][kk]->pairwise_connect_weight[ll],\n",
    "  //             ff_synapse_params_vec[ii][jj][kk]->pairwise_connect_delay[ll]);\n",
    "  //       }\n",
    "  //     }\n",
    "  //   }\n",
    "  // }\n",
    "\n",
    "  std::cout << \"\\n\\n.......\\nBuilding lateral connectivity...\\n.......\\n\\n\";\n",
    "\n",
    "\n",
    "\n",
    "  // BACKGROUND CONNECTIONS\n",
    "  //Create synapses for the background noise input to all other neurons\n",
    "  conductance_spiking_synapse_parameters_struct * back_input_to_all = new conductance_spiking_synapse_parameters_struct();\n",
    "  back_input_to_all->weight_range[0] = lower_weight_limit;   // Create uniform distributions of weights between the upper and lower bound\n",
    "  back_input_to_all->weight_range[1] = upper_weight_limit; //NB the weight range is simply the initialization\n",
    "  back_input_to_all->weight_scaling_constant = excitatory_population_params->somatic_leakage_conductance_g0;\n",
    "  back_input_to_all->delay_range[0] = 10.0*timestep;\n",
    "  back_input_to_all->delay_range[1] = 100.0*timestep;\n",
    "  back_input_to_all->decay_term_tau_g = 0.0017f;  // Seconds (Conductance Parameter)\n",
    "  back_input_to_all->reversal_potential_Vhat = 0.0*pow(10.0, -3);\n",
    "  back_input_to_all->connectivity_type = CONNECTIVITY_TYPE_ALL_TO_ALL;\n",
    "\n",
    "  // Iteratively create the background input synapses\n",
    "  for (int ii = 0; ii < 1; ii++){ // Iterate through the layers\n",
    "    for (int jj = 0; jj < 1; jj++){ // Iterate through the left and right hand sides of each layer\n",
    "      //Note the first (input) layers are skipped, and each side of each layer only needs to receive one connection\n",
    "      BinaryModel->AddSynapseGroup(back_input_layer_ID, neuron_params_vec[ii+1][jj], back_input_to_all);\n",
    "      //std::cout << \"\\n\\nBackground input neurons are sending to group ID \" << neuron_params_vec[ii+1][jj] << \"\\n\";\n",
    "    }\n",
    "  }\n",
    "\n",
    "  std::cout << \"\\n\\n.......\\nAll synapses created...\\n.......\\n\\n\";\n",
    "\n",
    "  /*\n",
    "      ADD INPUT STIMULI TO THE PATTERNED POISSON NEURONS CLASS\n",
    "  */\n",
    "\n",
    "  std::cout << \"\\n\\n.......\\nAssigning stimuli to the network...\\n.......\\n\\n\";\n",
    "\n",
    "  //Initialize array for input firing rates; note that althought it is a 2D input in the model, this is represented in Spike as a 1D array\n",
    "  int total_input_size = (x_dim * y_dim * num_images * 2);\n",
    "  std::vector<float> input_rates(total_input_size, 1.0); //Initializes an array of ones\n",
    "\n",
    "  //Set the first and last section of input_rates to values such that they will be the 'on' stimuli (note the zero's and one's are inverted later)\n",
    "  for (int ii = 0; ii < (x_dim * y_dim); ++ii){\n",
    "    input_rates[ii] = 0.0f;\n",
    "  }\n",
    "  for (int jj = (x_dim * y_dim * 3); jj < (x_dim * y_dim * 4); ++jj){\n",
    "    input_rates[jj] = 0.0f;\n",
    "  }\n",
    "\n",
    "  //Uncomment the following section to test that firing rates for each stimulus have maintained their 2D structure by printing to screen\n",
    "  for (int ii = 0; ii < num_images; ++ii){\n",
    "    std::cout << \"\\n\\n\\n\\n*** Stimulus \" << (ii+1) << \"***\\n\\n\";\n",
    "    //Iterate through each row\n",
    "    for (int jj = 0; jj < y_dim*2; ++jj){\n",
    "      //Iterate through each column in a row\n",
    "      for (int kk = 0; kk < x_dim; ++kk){\n",
    "        std::cout << input_rates[(2 * ii * x_dim * y_dim) + jj*y_dim + kk];\n",
    "      }\n",
    "      std::cout << \"\\n\";\n",
    "    }\n",
    "  }\n",
    "  \n",
    "\n",
    "  //Invert firing rate values (i.e. 0's and 1's) so that stimuli are the active neurons, and multiply by baseline firing rate\n",
    "  for (int ii = 0; ii < total_input_size; ++ii){\n",
    "    input_rates[ii] = ((input_rates[ii] - 1.10) * -1) * input_firing_rate; //Results in a stimuli firing rate that is 1.10*baseline, and a background firing rate that is 0.1*baseline\n",
    "  }\n",
    "\n",
    "\n",
    "  /*** Assign firing rates to stimuli ***/\n",
    "\n",
    "  //Initialize an array of integers to hold the stimulus ID values\n",
    "  int stimuli_array[num_images];\n",
    "  //Initialize a temporary array for holding stimulus firing rates\n",
    "  float temp_stimulus_array[total_number_of_input_neurons]; //\n",
    "\n",
    "  //Iterate through each image/stimulus\n",
    "  for (int ii = 0; ii < num_images; ++ii){\n",
    "    //Iterate through each image's firing rates and assign to a temporary array\n",
    "    for (int jj = 0; jj < (2*x_dim*y_dim); jj++){\n",
    "      temp_stimulus_array[jj] = input_rates[(2 * ii * x_dim * y_dim) + jj];\n",
    "    }\n",
    "\n",
    "    // Add the firing rate of the background neurons that input to all others\n",
    "    for (int kk = (2*x_dim*y_dim); kk < total_number_of_input_neurons; kk++){\n",
    "      temp_stimulus_array[kk] = background_firing_rate;\n",
    "    }\n",
    "    stimuli_array[ii] = patterned_poisson_input_neurons->add_stimulus(temp_stimulus_array, total_number_of_input_neurons);\n",
    "  }\n",
    "\n",
    "\n",
    "  BinaryModel->finalise_model();\n",
    "  float simtime = 0.2f; //This should be long enough to allow any recursive signalling to finish propagating\n",
    "\n",
    "  std::cout << \"\\n\\n.......\\nModel finalized and ready for simulating...\\n.......\\n\\n\";\n",
    "\n",
    "  \n",
    "  //    RUN THE SIMULATION WITH TRAINING\n",
    "  \n",
    "  BinaryModel->spiking_synapses->save_weights_as_binary(\"./\", \"Initial_Sandbox_Network\");\n",
    "\n",
    "  // Loop through a certain number of epoch's of presentation\n",
    "  for (int ii = 0; ii < training_epochs; ++ii) {\n",
    "    // Within each epoch, loop through each stimulus \n",
    "    //*** Eventually this order should probably be randomized ***\n",
    "    for (int jj = 0; jj < num_images; ++jj){\n",
    "      BinaryModel->reset_state(); //Re-set the activity of the network, but not e.g. weights and connectivity\n",
    "      patterned_poisson_input_neurons->select_stimulus(stimuli_array[jj]);\n",
    "      BinaryModel->run(simtime, 1); //the second argument is a boolean determining if STDP is on or off\n",
    "    }\n",
    "    //Save a snapshot of the model's current weights to enable looking for convergence \n",
    "    BinaryModel->spiking_synapses->save_weights_as_binary(\"./\", \"Epoch\" + std::to_string(ii) + \"Sandbox_Network\");\n",
    "\n",
    "  }\n",
    "\n",
    "\n",
    "  spike_monitor_main->reset_state(); //Dumps all recorded spikes\n",
    "  spike_monitor_input->reset_state();\n",
    "  BinaryModel->reset_time(); //Resets the internal clock to 0\n",
    "\n",
    "  /*\n",
    "      RUN THE SIMULATION AFTER TRAINING WITH FIRST STIMULUS\n",
    "  */\n",
    "\n",
    "  // Loop through a certain number of epoch's of presentation\n",
    "  for (int ii = 0; ii < display_epochs; ++ii) {\n",
    "\n",
    "    BinaryModel->reset_state(); //Re-set the activity of the network, but not e.g. weights and connectivity\n",
    "    patterned_poisson_input_neurons->select_stimulus(stimuli_array[0]);\n",
    "    BinaryModel->run(simtime, 0); //the second argument is a boolean determining if STDP is on or off\n",
    "\n",
    "  }\n",
    "\n",
    "  spike_monitor_main->save_spikes_as_binary(\"./\", \"output_spikes_posttraining_stim1\");\n",
    "  spike_monitor_main->save_spikes_as_txt(\"./\", \"output_spikes_posttraining_stim1\");\n",
    "  \n",
    "  spike_monitor_input->save_spikes_as_binary(\"./\", \"input_Poisson_stim1\");\n",
    "\n",
    "\n",
    "  spike_monitor_main->reset_state(); //Dumps all recorded spikes\n",
    "  spike_monitor_input->reset_state();\n",
    "  BinaryModel->reset_time(); //Resets the internal clock to 0\n",
    "\n",
    "  /*\n",
    "      RUN THE SIMULATION AFTER TRAINING WITH SECOND STIMULUS\n",
    "  */\n",
    "\n",
    "  // Loop through a certain number of epoch's of presentation\n",
    "  for (int ii = 0; ii < display_epochs; ++ii) {\n",
    "\n",
    "    BinaryModel->reset_state(); //Re-set the activity of the network, but not e.g. weights and connectivity\n",
    "    patterned_poisson_input_neurons->select_stimulus(stimuli_array[1]);\n",
    "    BinaryModel->run(simtime, 0); \n",
    "\n",
    "  }\n",
    "\n",
    "  spike_monitor_main->save_spikes_as_binary(\"./\", \"output_spikes_posttraining_stim2\");\n",
    "  spike_monitor_main->save_spikes_as_txt(\"./\", \"output_spikes_posttraining_stim2\");\n",
    "\n",
    "  spike_monitor_input->save_spikes_as_binary(\"./\", \"input_Poisson_stim2\");\n",
    "  BinaryModel->spiking_synapses->save_weights_as_binary(\"./\", \"Sandbox_Network\");\n",
    "  BinaryModel->spiking_synapses->save_connectivity_as_binary(\"./\", \"Sandbox_Network\");\n",
    "\n",
    "\n",
    "  return 0;\n",
    "}"
   ]
  },
  {
   "cell_type": "code",
   "execution_count": 54,
   "metadata": {
    "colab": {
     "base_uri": "https://localhost:8080/",
     "height": 289
    },
    "colab_type": "code",
    "id": "K57wPkqqZwq6",
    "outputId": "e51e25c5-bc56-450f-a18e-9fa4b6e17170"
   },
   "outputs": [
    {
     "name": "stdout",
     "output_type": "stream",
     "text": [
      "[ 30%] Built target SpikeDummy\n",
      "[ 31%] \u001b[34m\u001b[1mLinking SpikeCUDA\u001b[0m\n",
      "\u001b[31mLinking CXX executable SpikeCUDA\u001b[0m\n",
      "nvlink warning : Function '_ZN7Backend4CUDA44conductance_spiking_current_injection_kernelEPNS0_28spiking_synapses_data_structEPNS0_27spiking_neurons_data_structEffjfii' has address taken but no possible call to it\n",
      "nvlink warning : Function '_ZN7Backend4CUDA40current_spiking_current_injection_kernelEPNS0_28spiking_synapses_data_structEPNS0_27spiking_neurons_data_structEffjfii' has address taken but no possible call to it\n",
      "nvlink warning : Function '_ZN7Backend4CUDA32spiking_current_injection_kernelEPNS0_28spiking_synapses_data_structEPNS0_27spiking_neurons_data_structEffjfii' has address taken but no possible call to it\n",
      "nvlink warning : Function '_ZN7Backend4CUDA19get_active_synapsesEPNS0_28spiking_synapses_data_structEPNS0_27spiking_neurons_data_structEiiib' has address taken but no possible call to it\n",
      "nvlink warning : Function '_ZN7Backend4CUDA40voltage_spiking_current_injection_kernelEPNS0_28spiking_synapses_data_structEPNS0_27spiking_neurons_data_structEffjfii' has address taken but no possible call to it\n",
      "[ 62%] Built target SpikeCUDA\n",
      "[ 63%] \u001b[32m\u001b[1mLinking CXX shared library libSpike.dylib\u001b[0m\n",
      "ld: warning: option -noall_load is obsolete and being ignored\n",
      "ld: warning: option -noall_load is obsolete and being ignored\n",
      "[ 97%] Built target Spike\n",
      "\u001b[35m\u001b[1mScanning dependencies of target LeadholmBinding\u001b[0m\n",
      "[ 98%] \u001b[32mBuilding CXX object CMakeFiles/LeadholmBinding.dir/LeadholmBinding.cpp.o\u001b[0m\n",
      "[100%] \u001b[32m\u001b[1mLinking CXX executable LeadholmBinding\u001b[0m\n",
      "[100%] Built target LeadholmBinding\n"
     ]
    }
   ],
   "source": [
    "!make LeadholmBinding #Recompile the edited Sandbox.cpp file"
   ]
  },
  {
   "cell_type": "markdown",
   "metadata": {
    "colab_type": "text",
    "id": "vmFTIFQq6gDJ"
   },
   "source": [
    "## Run Simulation"
   ]
  },
  {
   "cell_type": "markdown",
   "metadata": {
    "colab_type": "text",
    "id": "1To9SNzA4yV9"
   },
   "source": [
    "Clean up any old output files (weights, recorded spikes etc.)."
   ]
  },
  {
   "cell_type": "code",
   "execution_count": 55,
   "metadata": {
    "colab": {},
    "colab_type": "code",
    "id": "jf0wHx1H0pk8"
   },
   "outputs": [],
   "source": [
    "!rm *.bin\n",
    "!rm *SpikeTimes.txt\n",
    "!rm *SpikeIDs.txt"
   ]
  },
  {
   "cell_type": "markdown",
   "metadata": {
    "colab_type": "text",
    "id": "stYAc45X41bd"
   },
   "source": [
    "Run the simulation."
   ]
  },
  {
   "cell_type": "code",
   "execution_count": 56,
   "metadata": {
    "colab": {
     "base_uri": "https://localhost:8080/",
     "height": 2890
    },
    "colab_type": "code",
    "id": "xk6aV_JdaDzh",
    "outputId": "524e6dee-54a4-4342-bc3c-3c706055cbe3"
   },
   "outputs": [
    {
     "name": "stdout",
     "output_type": "stream",
     "text": [
      "\n",
      "\n",
      ".......\n",
      "Creating network neuron groups...\n",
      ".......\n",
      "\n",
      "New layer ID is -1\n",
      "New layer ID is -2\n",
      "New layer ID is 0\n",
      "\n",
      "\n",
      ".......\n",
      "Building feed-forward connectivity...\n",
      ".......\n",
      "\n",
      "\n",
      "Connectivity data file opened, extracting synapse IDs, weights and delays...\n",
      "\n",
      "Connectivity data file read.\n",
      "\n",
      "Connectivity data file opened, extracting synapse IDs, weights and delays...\n",
      "\n",
      "Connectivity data file read.\n",
      "\n",
      "\n",
      ".......\n",
      "Building lateral connectivity...\n",
      ".......\n",
      "\n",
      "\n",
      "\n",
      ".......\n",
      "All synapses created...\n",
      ".......\n",
      "\n",
      "\n",
      "\n",
      ".......\n",
      "Assigning stimuli to the network...\n",
      ".......\n",
      "\n",
      "\n",
      "\n",
      "\n",
      "\n",
      "*** Stimulus 1***\n",
      "\n",
      "00000\n",
      "00000\n",
      "00000\n",
      "00000\n",
      "00000\n",
      "11111\n",
      "11111\n",
      "11111\n",
      "11111\n",
      "11111\n",
      "\n",
      "\n",
      "\n",
      "\n",
      "*** Stimulus 2***\n",
      "\n",
      "11111\n",
      "11111\n",
      "11111\n",
      "11111\n",
      "11111\n",
      "00000\n",
      "00000\n",
      "00000\n",
      "00000\n",
      "00000\n",
      "\n",
      "-----------\n",
      "---SPIKE---\n",
      "-----------\n",
      "\n",
      "Building Model with:\n",
      "  75 Input Neuron(s)\n",
      "  25 Neuron(s)\n",
      "  4421 Synapse(s)\n",
      "  1 Plasticity Rule(s)\n",
      "  2 Activity Monitor(s)\n",
      "\n",
      "\n",
      "\n",
      ".......\n",
      "Model finalized and ready for simulating...\n",
      ".......\n",
      "\n",
      "Selecting Stimulus: 0\n"
     ]
    }
   ],
   "source": [
    "!./LeadholmBinding"
   ]
  },
  {
   "cell_type": "markdown",
   "metadata": {
    "colab_type": "text",
    "id": "uUe9R8m-dHYC"
   },
   "source": [
    "##Visualize Results"
   ]
  },
  {
   "cell_type": "markdown",
   "metadata": {
    "colab_type": "text",
    "id": "S2VLiEr6bnm-"
   },
   "source": [
    "###Activity during Stimulus 1 presentation"
   ]
  },
  {
   "cell_type": "code",
   "execution_count": 47,
   "metadata": {
    "colab": {},
    "colab_type": "code",
    "id": "6_MT4Z8s6QuF"
   },
   "outputs": [],
   "source": [
    "stim1_df = pd.DataFrame(\n",
    "  data = {\n",
    "      \"ids\": np.fromfile(\"output_spikes_posttraining_stim1SpikeIDs.bin\", dtype=np.int32),\n",
    "      \"times\": np.fromfile(\"output_spikes_posttraining_stim1SpikeTimes.bin\", dtype=np.float32),\n",
    "  }\n",
    ")\n",
    "\n",
    "#NB Pandas will generate a 'data-frame', where each row in this case has a name (ids or times), and the \n",
    "#columns in those rows contain the values of interest"
   ]
  },
  {
   "cell_type": "code",
   "execution_count": 48,
   "metadata": {
    "colab": {
     "base_uri": "https://localhost:8080/",
     "height": 558
    },
    "colab_type": "code",
    "id": "uD6e0hnk6Qxj",
    "outputId": "df30c4a9-6818-4b03-e002-05d564d0151d"
   },
   "outputs": [
    {
     "data": {
      "text/plain": [
       "<matplotlib.collections.PathCollection at 0x11886b4a8>"
      ]
     },
     "execution_count": 48,
     "metadata": {},
     "output_type": "execute_result"
    },
    {
     "data": {
      "image/png": "[encoded data removed]",
      "text/plain": [
       "<Figure size 864x648 with 1 Axes>"
      ]
     },
     "metadata": {
      "needs_background": "light"
     },
     "output_type": "display_data"
    }
   ],
   "source": [
    "plt.figure(figsize=(12,9))\n",
    "mask = stim1_df[\"times\"] <1.0 #Restrict plotted spikes to a particular time period\n",
    "#mask = ((stim1_df[\"ids\"] > 0) & (stim1_df[\"ids\"] <= 1024)) #Restrict plotted spikes to a particular layer\n",
    "plt.scatter(stim1_df[\"times\"][mask], stim1_df[\"ids\"][mask], s=5)"
   ]
  },
  {
   "cell_type": "markdown",
   "metadata": {
    "colab_type": "text",
    "id": "Rvdv-E2ibxPz"
   },
   "source": [
    "###Activity during Stimulus 2 presentation"
   ]
  },
  {
   "cell_type": "code",
   "execution_count": 49,
   "metadata": {
    "colab": {},
    "colab_type": "code",
    "id": "oBPIuXmbaei9"
   },
   "outputs": [],
   "source": [
    "stim2_df = pd.DataFrame(\n",
    "  data = {\n",
    "      \"ids\": np.fromfile(\"output_spikes_posttraining_stim2SpikeIDs.bin\", dtype=np.int32),\n",
    "      \"times\": np.fromfile(\"output_spikes_posttraining_stim2SpikeTimes.bin\", dtype=np.float32),\n",
    "  }\n",
    ")"
   ]
  },
  {
   "cell_type": "code",
   "execution_count": 50,
   "metadata": {
    "colab": {
     "base_uri": "https://localhost:8080/",
     "height": 558
    },
    "colab_type": "code",
    "id": "uwpsuGXocZut",
    "outputId": "706f2d5c-6a01-40f9-c164-2ef160d746df"
   },
   "outputs": [
    {
     "data": {
      "text/plain": [
       "<matplotlib.collections.PathCollection at 0x118afbc88>"
      ]
     },
     "execution_count": 50,
     "metadata": {},
     "output_type": "execute_result"
    },
    {
     "data": {
      "image/png": "[encoded data removed]",
      "text/plain": [
       "<Figure size 864x648 with 1 Axes>"
      ]
     },
     "metadata": {
      "needs_background": "light"
     },
     "output_type": "display_data"
    }
   ],
   "source": [
    "plt.figure(figsize=(12,9))\n",
    "mask = stim2_df[\"times\"] <1.0\n",
    "#mask = ((stim2_df[\"ids\"] > 2048) & (stim2_df[\"ids\"] <= 2048+1024))\n",
    "plt.scatter(stim2_df[:][\"times\"][mask], stim2_df[:][\"ids\"][mask], s=5)"
   ]
  },
  {
   "cell_type": "markdown",
   "metadata": {
    "colab_type": "text",
    "id": "_8xcTSYbdk53"
   },
   "source": [
    "###Activity of Stimulus 1 Poisson input"
   ]
  },
  {
   "cell_type": "code",
   "execution_count": 51,
   "metadata": {
    "colab": {},
    "colab_type": "code",
    "id": "-k0w_XXMcJrj"
   },
   "outputs": [],
   "source": [
    "input1_df = pd.DataFrame(\n",
    "  data = {\n",
    "      \"ids\": np.fromfile(\"input_Poisson_stim1SpikeIDs.bin\", dtype=np.int32),\n",
    "      \"times\": np.fromfile(\"input_Poisson_stim1SpikeTimes.bin\", dtype=np.float32),\n",
    "  }\n",
    ")"
   ]
  },
  {
   "cell_type": "code",
   "execution_count": 52,
   "metadata": {
    "colab": {},
    "colab_type": "code",
    "id": "aolD0Y8xcN63"
   },
   "outputs": [
    {
     "data": {
      "text/plain": [
       "<matplotlib.collections.PathCollection at 0x118cbdc18>"
      ]
     },
     "execution_count": 52,
     "metadata": {},
     "output_type": "execute_result"
    },
    {
     "data": {
      "image/png": "[encoded data removed]",
      "text/plain": [
       "<Figure size 864x648 with 1 Axes>"
      ]
     },
     "metadata": {
      "needs_background": "light"
     },
     "output_type": "display_data"
    }
   ],
   "source": [
    "plt.figure(figsize=(12,9))\n",
    "mask = input1_df[\"times\"] <4.0\n",
    "plt.scatter(input1_df[\"times\"][mask], input1_df[\"ids\"][mask], s=5)"
   ]
  },
  {
   "cell_type": "markdown",
   "metadata": {
    "colab_type": "text",
    "id": "WbVilbhToWuS"
   },
   "source": [
    "###Activity of Stimulus 2 Poisson input"
   ]
  },
  {
   "cell_type": "code",
   "execution_count": 0,
   "metadata": {
    "colab": {},
    "colab_type": "code",
    "id": "ReNO5j5doYJH"
   },
   "outputs": [],
   "source": [
    "# input2_df = pd.DataFrame(\n",
    "#   data = {\n",
    "#       \"ids\": np.fromfile(\"input_Poisson_stim2SpikeIDs.bin\", dtype=np.int32),\n",
    "#       \"times\": np.fromfile(\"input_Poisson_stim2SpikeTimes.bin\", dtype=np.float32),\n",
    "#   }\n",
    "# )"
   ]
  },
  {
   "cell_type": "code",
   "execution_count": 0,
   "metadata": {
    "colab": {},
    "colab_type": "code",
    "id": "pLp8HW1QoYQe"
   },
   "outputs": [],
   "source": [
    "\n",
    "# plt.figure(figsize=(12,9))\n",
    "# mask = input2_df[\"times\"] <4.0\n",
    "# plt.scatter(input2_df[\"times\"][mask], input2_df[\"ids\"][mask], s=5)"
   ]
  },
  {
   "cell_type": "markdown",
   "metadata": {
    "colab_type": "text",
    "id": "SXeT4yTE55bt"
   },
   "source": [
    "###Plot Firing Rate Distributions"
   ]
  },
  {
   "cell_type": "code",
   "execution_count": 0,
   "metadata": {
    "colab": {},
    "colab_type": "code",
    "id": "WjYHIw3VhWLC"
   },
   "outputs": [],
   "source": [
    "numinhneurons = (5*5*2*3)\n",
    "inhfrs_stim1 = np.bincount(stim1_df[\"ids\"].values, minlength=numinhneurons)\n",
    "inhfrs_stim2 = np.bincount(stim2_df[\"ids\"].values, minlength=numinhneurons)"
   ]
  },
  {
   "cell_type": "code",
   "execution_count": 294,
   "metadata": {
    "colab": {
     "base_uri": "https://localhost:8080/",
     "height": 319
    },
    "colab_type": "code",
    "id": "qFZm-C8FhtJl",
    "outputId": "297858a2-3d4c-4de0-c6af-dc772fb4d05b"
   },
   "outputs": [
    {
     "data": {
      "text/plain": [
       "(array([75.,  0.,  0.,  0.,  0.,  8., 19., 30., 12.,  6.]),\n",
       " array([ 0. ,  2.3,  4.6,  6.9,  9.2, 11.5, 13.8, 16.1, 18.4, 20.7, 23. ]),\n",
       " <a list of 10 Patch objects>)"
      ]
     },
     "execution_count": 294,
     "metadata": {
      "tags": []
     },
     "output_type": "execute_result"
    },
    {
     "data": {
      "image/png": "[encoded data removed]",
      "text/plain": [
       "<Figure size 432x288 with 1 Axes>"
      ]
     },
     "metadata": {
      "tags": []
     },
     "output_type": "display_data"
    }
   ],
   "source": [
    "plt.hist(inhfrs_stim1)"
   ]
  },
  {
   "cell_type": "code",
   "execution_count": 295,
   "metadata": {
    "colab": {
     "base_uri": "https://localhost:8080/",
     "height": 319
    },
    "colab_type": "code",
    "id": "9_-4goXN6CzJ",
    "outputId": "a477b99f-a8b6-4136-c620-9403ae561f8c"
   },
   "outputs": [
    {
     "data": {
      "text/plain": [
       "(array([75.,  0.,  0.,  0.,  4., 38., 18., 10.,  3.,  2.]),\n",
       " array([ 0. ,  2.4,  4.8,  7.2,  9.6, 12. , 14.4, 16.8, 19.2, 21.6, 24. ]),\n",
       " <a list of 10 Patch objects>)"
      ]
     },
     "execution_count": 295,
     "metadata": {
      "tags": []
     },
     "output_type": "execute_result"
    },
    {
     "data": {
      "image/png": "[encoded data removed]",
      "text/plain": [
       "<Figure size 432x288 with 1 Axes>"
      ]
     },
     "metadata": {
      "tags": []
     },
     "output_type": "display_data"
    }
   ],
   "source": [
    "plt.hist(inhfrs_stim2)"
   ]
  },
  {
   "cell_type": "markdown",
   "metadata": {
    "colab_type": "text",
    "id": "NmlsM7LJ58z1"
   },
   "source": [
    "###Firing Rate Difference For the Two Stimuli"
   ]
  },
  {
   "cell_type": "code",
   "execution_count": 296,
   "metadata": {
    "colab": {
     "base_uri": "https://localhost:8080/",
     "height": 502
    },
    "colab_type": "code",
    "id": "1bh7Qb5vuyTa",
    "outputId": "4cf8c31e-3f35-4a47-c8e3-4ae9484970d8"
   },
   "outputs": [
    {
     "data": {
      "text/plain": [
       "[<matplotlib.lines.Line2D at 0x7f32763da5f8>]"
      ]
     },
     "execution_count": 296,
     "metadata": {
      "tags": []
     },
     "output_type": "execute_result"
    },
    {
     "data": {
      "image/png": "[encoded data removed]",
      "text/plain": [
       "<Figure size 576x576 with 1 Axes>"
      ]
     },
     "metadata": {
      "tags": []
     },
     "output_type": "display_data"
    }
   ],
   "source": [
    "plt.figure(figsize=(8,8))\n",
    "plt.plot(inhfrs_stim1, color='b')\n",
    "plt.plot(inhfrs_stim2, color='r')"
   ]
  },
  {
   "cell_type": "markdown",
   "metadata": {
    "colab_type": "text",
    "id": "w7X_sRb4rjPG"
   },
   "source": [
    "###Distribution of Weights"
   ]
  },
  {
   "cell_type": "code",
   "execution_count": 0,
   "metadata": {
    "colab": {},
    "colab_type": "code",
    "id": "_cxZadnzujge"
   },
   "outputs": [],
   "source": [
    "num_epochs = 5000\n",
    "\n",
    "weights_df = pd.DataFrame(\n",
    "  data = {\n",
    "      \"weights\" : np.fromfile(\"Epoch\" + str(num_epochs-1) + \"Sandbox_NetworkSynapticWeights.bin\", dtype=np.float32),\n",
    "      \"pres\" : np.fromfile(\"Sandbox_NetworkPresynapticIDs.bin\", dtype=np.int32),\n",
    "      \"post\" : np.fromfile(\"Sandbox_NetworkPostsynapticIDs.bin\", dtype=np.int32)\n",
    "  }\n",
    ")"
   ]
  },
  {
   "cell_type": "code",
   "execution_count": 0,
   "metadata": {
    "colab": {},
    "colab_type": "code",
    "id": "-B7kwx9mmQbd"
   },
   "outputs": [],
   "source": [
    "input_weight_evolution = []\n",
    "inh_weight_evolution = []\n",
    "\n",
    "inputmask = (weights_df[\"pres\"] < 0) &(weights_df[\"pres\"] >= -100) \n",
    "inhmask = (weights_df[\"pres\"] > 0) &(weights_df[\"post\"] > 0) \n",
    "\n",
    "\n",
    "for e in range(num_epochs):\n",
    "  input_weight_evolution.append(np.fromfile(\"Epoch\" + str(e) + \"Sandbox_NetworkSynapticWeights.bin\", dtype=np.float32)[inputmask])\n",
    "  inh_weight_evolution.append(np.fromfile(\"Epoch\" + str(e) + \"Sandbox_NetworkSynapticWeights.bin\", dtype=np.float32)[inhmask])\n",
    "\n",
    "\n",
    "input_mean_weight_evolution = np.mean(np.asarray(input_weight_evolution), axis=1)\n",
    "inh_mean_weight_evolution = np.mean(np.asarray(inh_weight_evolution), axis=1)"
   ]
  },
  {
   "cell_type": "code",
   "execution_count": 299,
   "metadata": {
    "colab": {
     "base_uri": "https://localhost:8080/",
     "height": 340
    },
    "colab_type": "code",
    "id": "XW58_j7dn1X9",
    "outputId": "4a57dfb1-ec44-4f05-8b22-a25a6a717bec"
   },
   "outputs": [
    {
     "data": {
      "text/plain": [
       "[<matplotlib.lines.Line2D at 0x7f32761d0d68>]"
      ]
     },
     "execution_count": 299,
     "metadata": {
      "tags": []
     },
     "output_type": "execute_result"
    },
    {
     "data": {
      "image/png": "[encoded data removed]",
      "text/plain": [
       "<Figure size 720x360 with 2 Axes>"
      ]
     },
     "metadata": {
      "tags": []
     },
     "output_type": "display_data"
    }
   ],
   "source": [
    "\n",
    "\n",
    "plt.figure(figsize=(10,5))\n",
    "plt.subplot(1,2,1)\n",
    "plt.plot(input_mean_weight_evolution)\n",
    "\n",
    "plt.subplot(1,2,2)\n",
    "plt.plot(inh_mean_weight_evolution, color='r')"
   ]
  },
  {
   "cell_type": "code",
   "execution_count": 300,
   "metadata": {
    "colab": {
     "base_uri": "https://localhost:8080/",
     "height": 437
    },
    "colab_type": "code",
    "id": "LrW1KoxK5a6Y",
    "outputId": "ab0cf32c-6787-4d4a-8226-36fb77fd9ab5"
   },
   "outputs": [
    {
     "data": {
      "text/plain": [
       "(array([149., 143., 172., 176., 203., 229., 201., 251., 228., 241., 531.,\n",
       "        730., 716., 640., 612., 610., 640., 693., 525., 297., 239., 224.,\n",
       "        165., 174., 129.]),\n",
       " array([0.01001152, 0.01361103, 0.01721053, 0.02081004, 0.02440954,\n",
       "        0.02800905, 0.03160855, 0.03520805, 0.03880756, 0.04240706,\n",
       "        0.04600657, 0.04960607, 0.05320558, 0.05680508, 0.06040458,\n",
       "        0.06400409, 0.0676036 , 0.0712031 , 0.0748026 , 0.0784021 ,\n",
       "        0.08200161, 0.08560111, 0.08920062, 0.09280012, 0.09639963,\n",
       "        0.09999913], dtype=float32),\n",
       " <a list of 25 Patch objects>)"
      ]
     },
     "execution_count": 300,
     "metadata": {
      "tags": []
     },
     "output_type": "execute_result"
    },
    {
     "data": {
      "image/png": "[encoded data removed]",
      "text/plain": [
       "<Figure size 432x288 with 1 Axes>"
      ]
     },
     "metadata": {
      "tags": []
     },
     "output_type": "display_data"
    }
   ],
   "source": [
    "mask = (weights_df[\"pres\"] < 0) &(weights_df[\"pres\"] >= -100) \n",
    "plt.hist(weights_df[\"weights\"][mask], bins=25)"
   ]
  },
  {
   "cell_type": "code",
   "execution_count": 301,
   "metadata": {
    "colab": {
     "base_uri": "https://localhost:8080/",
     "height": 454
    },
    "colab_type": "code",
    "id": "KP2OLSLqkZEw",
    "outputId": "a06af3a9-0a14-4f6c-898e-7d65f67bddaa"
   },
   "outputs": [
    {
     "data": {
      "text/plain": [
       "(array([4330., 3514., 2594., 1815.,  830.,  494.,  306.,  252.,  256.,\n",
       "         207.,  223.,  213.,  195.,  191.,  170.,  149.,  157.,  181.,\n",
       "         166.,  138.,  166.,  177.,  175.,  168.,  174.]),\n",
       " array([4.33581590e-04, 2.44152527e-02, 4.83969226e-02, 7.23785907e-02,\n",
       "        9.63602662e-02, 1.20341934e-01, 1.44323602e-01, 1.68305278e-01,\n",
       "        1.92286953e-01, 2.16268614e-01, 2.40250289e-01, 2.64231950e-01,\n",
       "        2.88213640e-01, 3.12195301e-01, 3.36176962e-01, 3.60158652e-01,\n",
       "        3.84140313e-01, 4.08121973e-01, 4.32103664e-01, 4.56085324e-01,\n",
       "        4.80066985e-01, 5.04048645e-01, 5.28030336e-01, 5.52012026e-01,\n",
       "        5.75993657e-01, 5.99975348e-01], dtype=float32),\n",
       " <a list of 25 Patch objects>)"
      ]
     },
     "execution_count": 301,
     "metadata": {
      "tags": []
     },
     "output_type": "execute_result"
    },
    {
     "data": {
      "image/png": "[encoded data removed]",
      "text/plain": [
       "<Figure size 432x288 with 1 Axes>"
      ]
     },
     "metadata": {
      "tags": []
     },
     "output_type": "display_data"
    }
   ],
   "source": [
    "mask = (weights_df[\"pres\"] > 0) &(weights_df[\"post\"] > 0) \n",
    "plt.hist(weights_df[\"weights\"][mask], bins=25)"
   ]
  },
  {
   "cell_type": "code",
   "execution_count": 0,
   "metadata": {
    "colab": {},
    "colab_type": "code",
    "id": "rSvyySXfbV8-"
   },
   "outputs": [],
   "source": [
    "numinhneurons = 5*5*2\n",
    "neuroninputvector = np.zeros((numinhneurons, 5*5*2))\n",
    "\n",
    "\n",
    "for neuronid in range(numinhneurons):\n",
    "  mask = (weights_df[\"post\"].values == neuronid) & (weights_df[\"pres\"].values < 0) & (weights_df[\"pres\"].values >= -5*5*2)\n",
    "  neuroninputvector[neuronid, weights_df[\"pres\"].values[mask]*-1 -1] = weights_df[\"weights\"].values[mask]"
   ]
  },
  {
   "cell_type": "code",
   "execution_count": 303,
   "metadata": {
    "colab": {
     "base_uri": "https://localhost:8080/",
     "height": 96
    },
    "colab_type": "code",
    "id": "LFdQju9TjIkm",
    "outputId": "83f00e2b-84fa-45e1-f717-7ae9e7e524b8"
   },
   "outputs": [
    {
     "data": {
      "image/png": "[encoded data removed]",
      "text/plain": [
       "<Figure size 1800x7200 with 50 Axes>"
      ]
     },
     "metadata": {
      "tags": []
     },
     "output_type": "display_data"
    }
   ],
   "source": [
    "plt.figure(figsize=(25,100))\n",
    "for neuronid in range(numinhneurons):\n",
    "  plt.subplot(5*5*2, 5*5*2, 1+neuronid)\n",
    "  plt.imshow(neuroninputvector[neuronid].reshape(5*2,5), interpolation=\"nearest\", vmin=np.min(neuroninputvector), vmax=np.max(neuroninputvector))\n",
    "  plt.axis('off')"
   ]
  }
 ],
 "metadata": {
  "accelerator": "GPU",
  "colab": {
   "collapsed_sections": [],
   "name": "SpikeColab_Leadholm.ipynb",
   "provenance": [],
   "toc_visible": true,
   "version": "0.3.2"
  },
  "kernelspec": {
   "display_name": "Python 3",
   "language": "python",
   "name": "python3"
  },
  "language_info": {
   "codemirror_mode": {
    "name": "ipython",
    "version": 3
   },
   "file_extension": ".py",
   "mimetype": "text/x-python",
   "name": "python",
   "nbconvert_exporter": "python",
   "pygments_lexer": "ipython3",
   "version": "3.7.1"
  }
 },
 "nbformat": 4,
 "nbformat_minor": 1
}
